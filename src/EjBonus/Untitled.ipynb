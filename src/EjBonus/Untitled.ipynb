{
 "cells": [
  {
   "cell_type": "markdown",
   "metadata": {},
   "source": [
    "# Análisis de componentes principales\n",
    "\n",
    "Para la realización de este ejercicio, nosotros decicidimos utilizar la librería de PCA del módulo de [descomposición de Sklearn.](https://scikit-learn.org/stable/modules/generated/sklearn.decomposition.PCA.html)\n",
    "\n",
    "### Conjunto de datos de entrada\n",
    "\n",
    "El conjunto de datos de entrada es [europe.csv](./files/europe.csv) que se puede encontrar en la carpeta /files, el cual contiene información geográfica, social y económica de 28 países europeos.\n",
    "\n",
    "De este conjunto de datos podemos extraer la siguiente información:\n",
    "- Cantidad de variables: Esta tabla tiene 8 variables, esto incluye Nombre del país, Area, PBI, Inflación, Expectativa de vida, Militar, Crecimiento poblacional y Tasa de desempleo. **Aclaración:** El análisis de componentes principales solo opera sobre variables numéricas, con lo cual, para el ejercicio evaluaremos únicamente 7 variables, descartando los nombres de los países.\n",
    "- Cantidad de registros: Esta tabla tiene 28 registros donde cada uno corresponde a un país europeo distinto.\n",
    "\n",
    "### Evaluación de datos de entrada\n",
    "\n",
    "Para realizar un primer acercamiento a los datos provistos por la tabla, realizaremos dos gráficos boxplot, uno evaluando los datos *crudos* como se presentan en el archivo, y luego otro con los datos estandarizados.\n",
    "\n",
    "1) Empecemos con los datos sin estandarizar"
   ]
  },
  {
   "cell_type": "code",
   "execution_count": 1,
   "metadata": {},
   "outputs": [
    {
     "data": {
      "image/png": "[encoded data removed]",
      "text/plain": [
       "<Figure size 432x288 with 1 Axes>"
      ]
     },
     "metadata": {
      "needs_background": "light"
     },
     "output_type": "display_data"
    }
   ],
   "source": [
    "import matplotlib.pyplot as plt\n",
    "import pandas as pd\n",
    "\n",
    "my_csv = 'files/europe.csv'\n",
    "data = pd.read_csv(my_csv)\n",
    "dataframe = pd.DataFrame(data=data)\n",
    "dataframe.plot(kind='box')\n",
    "plt.show()"
   ]
  },
  {
   "cell_type": "markdown",
   "metadata": {},
   "source": [
    "2) Ahora veamos el mismo gráfico pero con los datos previamente estandarizados"
   ]
  },
  {
   "cell_type": "code",
   "execution_count": null,
   "metadata": {},
   "outputs": [],
   "source": []
  }
 ],
 "metadata": {
  "kernelspec": {
   "display_name": "Python 3",
   "language": "python",
   "name": "python3"
  },
  "language_info": {
   "codemirror_mode": {
    "name": "ipython",
    "version": 3
   },
   "file_extension": ".py",
   "mimetype": "text/x-python",
   "name": "python",
   "nbconvert_exporter": "python",
   "pygments_lexer": "ipython3",
   "version": "3.8.5"
  }
 },
 "nbformat": 4,
 "nbformat_minor": 4
}
