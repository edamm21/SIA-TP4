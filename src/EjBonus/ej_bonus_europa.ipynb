{
 "cells": [
  {
   "cell_type": "markdown",
   "metadata": {},
   "source": [
    "# Análisis de componentes principales\n",
    "\n",
    "Para la realización de este ejercicio, nosotros decicidimos utilizar la librería de PCA del módulo de [descomposición de Sklearn.](https://scikit-learn.org/stable/modules/generated/sklearn.decomposition.PCA.html)\n",
    "\n",
    "### Conjunto de datos de entrada\n",
    "\n",
    "El conjunto de datos de entrada es [europe.csv](./files/europe.csv) que se puede encontrar en la carpeta /files, el cual contiene información geográfica, social y económica de 28 países europeos.\n",
    "\n",
    "De este conjunto de datos podemos extraer la siguiente información:\n",
    "- Cantidad de variables: Esta tabla tiene 8 variables, esto incluye Nombre del país, Area, PBI, Inflación, Expectativa de vida, Militar, Crecimiento poblacional y Tasa de desempleo. **Aclaración:** El análisis de componentes principales solo opera sobre variables numéricas, con lo cual, para el ejercicio evaluaremos únicamente 7 variables, descartando los nombres de los países.\n",
    "- Cantidad de registros: Esta tabla tiene 28 registros donde cada uno corresponde a un país europeo distinto.\n",
    "\n",
    "### Evaluación de datos de entrada\n",
    "\n",
    "Para realizar un primer acercamiento a los datos provistos por la tabla, realizaremos dos gráficos boxplot, uno evaluando los datos *crudos* como se presentan en el archivo, y luego otro con los datos estandarizados.\n",
    "\n",
    "1) Empecemos con los datos sin estandarizar"
   ]
  },
  {
   "cell_type": "code",
   "execution_count": 9,
   "metadata": {},
   "outputs": [
    {
     "data": {
      "image/png": "[encoded data removed]",
      "text/plain": [
       "<Figure size 432x288 with 1 Axes>"
      ]
     },
     "metadata": {
      "needs_background": "light"
     },
     "output_type": "display_data"
    }
   ],
   "source": [
    "import matplotlib.pyplot as plt\n",
    "import pandas as pd\n",
    "import statistics\n",
    "import numpy as np\n",
    "\n",
    "data = pd.read_csv('files/europe.csv')\n",
    "features = ['Area','GDP','Inflation','Life.expect','Military','Pop.growth','Unemployment']\n",
    "X_non_standarized = data[features]\n",
    "X_non_standarized = pd.DataFrame(data=X_non_standarized)\n",
    "X_non_standarized.plot(kind='box')\n",
    "plt.show()"
   ]
  },
  {
   "cell_type": "markdown",
   "metadata": {},
   "source": [
    "2) Ahora veamos el mismo gráfico pero con los datos previamente estandarizados"
   ]
  },
  {
   "cell_type": "code",
   "execution_count": 10,
   "metadata": {},
   "outputs": [
    {
     "data": {
      "image/png": "[encoded data removed]",
      "text/plain": [
       "<Figure size 432x288 with 1 Axes>"
      ]
     },
     "metadata": {
      "needs_background": "light"
     },
     "output_type": "display_data"
    }
   ],
   "source": [
    "def standarize(grid):\n",
    "    standarized_columns = []\n",
    "    for i in range(len(grid[0])):    \n",
    "        entire_col = [row[i] for row in grid]\n",
    "        media = sum(entire_col) / len(entire_col)\n",
    "        std = statistics.stdev(entire_col)\n",
    "        standarized_column = [(value - media) / std for value in entire_col]\n",
    "        standarized_columns.append(standarized_column)\n",
    "    array = np.array([np.array(xi) for xi in standarized_columns])\n",
    "    array = array.transpose()\n",
    "    return array\n",
    "\n",
    "X_standarized = data[features]\n",
    "X_standarized = pd.DataFrame(data=standarize(X_standarized.to_numpy()))\n",
    "X_standarized.plot(kind='box')\n",
    "plt.show()\n"
   ]
  },
  {
   "cell_type": "markdown",
   "metadata": {},
   "source": [
    "Normalizamos a partir de la siguiente fórmula:\n",
    "\n",
    "\\begin{equation*}\n",
    "X_n^e = \\frac{X_n - \\overline{X}}{std({X})}\n",
    "\\end{equation*}\n"
   ]
  },
  {
   "cell_type": "markdown",
   "metadata": {},
   "source": [
    "## Matrices de covarianza y correlaciones\n",
    "\n",
    "Luego determinamos las matrices de covarianza y de correlaciones a partir de los datos provistos.\n",
    "\n",
    "1) Matriz de covarianza\n",
    "Es la matriz que contiene los valores de la covarianza muestral entre 2 variables, de modo que cada elemento de la matriz respeta la siguiente fórmula:\n",
    "\n",
    "\\begin{equation*}\n",
    "S_i{_k} = \\frac{1}{n}\\sum_{j=1}^m (x_j{_i} - \\overline{x_i})(x_j{_k} - \\overline{x_i})\n",
    "\\end{equation*}\n",
    "\n",
    "Donde:\n",
    "\\begin{equation*}\\ S_i{_k} \\gt 0\\end{equation*}La asociación entre las variables es positiva .\n",
    "\\begin{equation*}\\ S_i{_k} \\lt 0\\end{equation*}La asociación entre las variables es negativa.\n",
    "\\begin{equation*} S_i{_k} = 0\\end{equation*}No hay asociación entre las variables.\n"
   ]
  },
  {
   "cell_type": "code",
   "execution_count": 15,
   "metadata": {},
   "outputs": [
    {
     "name": "stdout",
     "output_type": "stream",
     "text": [
      "Dimensión de la matriz de covarianza:  (7, 7)\n",
      "Matriz de covarianza: \n",
      "                       Area           GDP     Inflation   Life.expect  \\\n",
      "Area          2.740305e+10 -3.325321e+08  74089.928042 -11440.558426   \n",
      "GDP          -3.325321e+08  2.103114e+08  -9991.957672  32419.879630   \n",
      "Inflation     7.408993e+04 -9.991958e+03      1.955132     -3.028704   \n",
      "Life.expect  -1.144056e+04  3.241988e+04     -3.028704     10.170716   \n",
      "Military      1.348984e+04 -3.305827e+03      0.054101     -0.161642   \n",
      "Pop.growth   -7.363911e+03  5.535550e+03     -0.336021      1.235259   \n",
      "Unemployment  1.970705e+04 -3.580246e+04      1.300159     -3.669574   \n",
      "\n",
      "                  Military   Pop.growth  Unemployment  \n",
      "Area          13489.839960 -7363.910635  19707.051058  \n",
      "GDP           -3305.826720  5535.550265 -35802.460317  \n",
      "Inflation         0.054101    -0.336021      1.300159  \n",
      "Life.expect      -0.161642     1.235259     -3.669574  \n",
      "Military          0.642165    -0.113575      1.095643  \n",
      "Pop.growth       -0.113575     0.251969     -0.410381  \n",
      "Unemployment      1.095643    -0.410381     21.882487  \n"
     ]
    }
   ],
   "source": [
    "covariance_matrix = X_non_standarized.cov()\n",
    "print('Dimensión de la matriz de covarianza: ', np.shape(covariance_matrix))\n",
    "print('Matriz de covarianza: \\n', covariance_matrix)"
   ]
  },
  {
   "cell_type": "markdown",
   "metadata": {},
   "source": [
    "2) Matriz de correlación\n",
    "La matrz de correlación nos da la relación entre 2 variables, con valores comprendidos entre -1 y 1. En este caso, la forma de popular la matriz es idéntica, solo que tomando los datos de entrada ya estandarizados. Podemos observar que en este caso, la diagonal principal siempre tiene un valor de 1, representando la relación absoluta entre una variable y si misma."
   ]
  },
  {
   "cell_type": "code",
   "execution_count": 14,
   "metadata": {},
   "outputs": [
    {
     "name": "stdout",
     "output_type": "stream",
     "text": [
      "Dimensión de la matriz de correlación:  (7, 7)\n",
      "Matriz de correlación: \n",
      "           0         1         2         3         4         5         6\n",
      "0  1.000000 -0.138517  0.320090 -0.021671  0.101691 -0.088621  0.025449\n",
      "1 -0.138517  1.000000 -0.492755  0.700978 -0.284463  0.760424 -0.527756\n",
      "2  0.320090 -0.492755  1.000000 -0.679193  0.048283 -0.478746  0.198774\n",
      "3 -0.021671  0.700978 -0.679193  1.000000 -0.063249  0.771629 -0.245975\n",
      "4  0.101691 -0.284463  0.048283 -0.063249  1.000000 -0.282347  0.292279\n",
      "5 -0.088621  0.760424 -0.478746  0.771629 -0.282347  1.000000 -0.174769\n",
      "6  0.025449 -0.527756  0.198774 -0.245975  0.292279 -0.174769  1.000000\n"
     ]
    }
   ],
   "source": [
    "correlations_matrix = X_standarized.corr()\n",
    "print('Dimensión de la matriz de correlación: ', np.shape(correlations_matrix))\n",
    "print('Matriz de correlación: \\n', correlations_matrix)"
   ]
  },
  {
   "cell_type": "markdown",
   "metadata": {},
   "source": [
    "## Cálculo de autovalores y autovectores\n",
    "\n",
    "Ahora calculemos los autovalores asociados a las tablas, y sus respectivos autovectores.\n",
    "\n",
    "\\begin{equation*} \\text{Recordemos que los autovalores son los } \\lambda \\text{ / } (A - \\lambda I) \\vec v =  \\vec 0\\end{equation*}\n",
    "\n",
    "\\begin{equation*} \\text{Y los autovectores son los } \\vec v \\text{ asociados a esos } \\lambda\\end{equation*}\n",
    "\n",
    "1) Calculamos los autovalores y autovectoers de la matriz de covarianza, ordenando los autovalores de mayor a menor."
   ]
  },
  {
   "cell_type": "code",
   "execution_count": 22,
   "metadata": {},
   "outputs": [
    {
     "name": "stdout",
     "output_type": "stream",
     "text": [
      "Autovalores:  [2.74071191e+10 2.06245544e+08 1.61367175e+01 5.36835095e+00\n",
      " 7.77196831e-01 5.58578271e-01 5.81146240e-02]\n",
      "Autovectores:  [[-9.99925260e-01 -1.22259664e-02 -1.15907007e-06  8.76398393e-07\n",
      "  -2.55643002e-06 -4.76693481e-07 -8.23249955e-08]\n",
      " [ 1.22259664e-02 -9.99925232e-01 -1.39237702e-04  1.91123837e-04\n",
      "  -2.04259624e-05  2.09914170e-05  1.77027887e-05]\n",
      " [-2.70756484e-06  4.40513295e-05  4.07576923e-02  3.47331165e-01\n",
      "   9.32437955e-01  8.17542177e-02  3.96935686e-02]\n",
      " [ 4.31861069e-07 -1.56500769e-04 -1.77866306e-01 -9.16473235e-01\n",
      "   3.47617660e-01 -2.32240281e-02  8.40414667e-02]\n",
      " [-4.93639942e-07  1.52277397e-05 -3.84545055e-02 -5.18473040e-02\n",
      "  -6.03896767e-02  9.88353166e-01 -1.23871768e-01]\n",
      " [ 2.71135309e-07 -2.64010831e-05 -3.70396563e-02 -5.22010104e-02\n",
      "   7.39244808e-02 -1.23430438e-01 -9.87523780e-01]\n",
      " [-7.34965897e-07  1.72410271e-04 -9.81759483e-01  1.84457978e-01\n",
      "  -2.46917191e-02 -2.64544720e-02  2.85310608e-02]]\n"
     ]
    }
   ],
   "source": [
    "eigen_values_ns, eigen_vectors_ns = np.linalg.eig(covariance_matrix)\n",
    "idx_order_ns = eigen_values_ns.argsort()[::-1]\n",
    "eigen_values_ns = eigen_values_ns[idx_order_ns]\n",
    "eigen_vectors_ns = eigen_vectors_ns[:,idx_order_ns]\n",
    "print('Autovalores: ', eigen_values_ns)\n",
    "print('Autovectores: ', eigen_vectors_ns)"
   ]
  },
  {
   "cell_type": "markdown",
   "metadata": {},
   "source": [
    "2) Ahora hacemos el mismo procedimiento para los autovalores y autovectores de la matriz de correlación."
   ]
  },
  {
   "cell_type": "code",
   "execution_count": 23,
   "metadata": {},
   "outputs": [
    {
     "name": "stdout",
     "output_type": "stream",
     "text": [
      "Autovalores:  [3.22716568 1.18712341 1.06319053 0.77035598 0.45784862 0.16867389\n",
      " 0.12564189]\n",
      "Autovectores:  [[-1.24873902e-01  1.72872202e-01  8.98296740e-01  4.48503976e-02\n",
      "  -3.24016926e-01  1.90118083e-01 -6.66428246e-02]\n",
      " [ 5.00505858e-01  1.30139553e-01  8.39557607e-02 -8.42554739e-02\n",
      "   3.90632444e-01  6.38657073e-01  3.97408435e-01]\n",
      " [-4.06518155e-01  3.69657243e-01  1.98194675e-01  1.64685649e-01\n",
      "   6.89500539e-01 -3.23867263e-01  2.26700295e-01]\n",
      " [ 4.82873325e-01 -2.65247797e-01  2.46082460e-01  2.67714373e-02\n",
      "  -1.01786561e-01 -6.06434187e-01  5.07031305e-01]\n",
      " [-1.88111616e-01 -6.58266888e-01  2.43679433e-01 -5.62374796e-01\n",
      "   3.68147581e-01  3.55960680e-02 -1.37309597e-01]\n",
      " [ 4.75703554e-01 -8.26219831e-02  1.63697207e-01  3.92462767e-01\n",
      "   3.47867772e-01 -1.20855625e-01 -6.71146682e-01]\n",
      " [-2.71655820e-01 -5.53203705e-01  5.00135736e-04  7.01967912e-01\n",
      "   1.01587422e-02  2.59704965e-01  2.44662434e-01]]\n"
     ]
    }
   ],
   "source": [
    "eigen_values_s, eigen_vectors_s = np.linalg.eig(correlations_matrix)\n",
    "idx_order_s = eigen_values_s.argsort()[::-1]\n",
    "eigen_values_s = eigen_values_s[idx_order_s]\n",
    "eigen_vectors_s = eigen_vectors_s[:,idx_order_s]\n",
    "print('Autovalores: ', eigen_values_s)\n",
    "print('Autovectores: ', eigen_vectors_s)"
   ]
  },
  {
   "cell_type": "markdown",
   "metadata": {},
   "source": [
    "## Análisis de componenetes principales\n",
    "\n",
    "Ahora utilizaremos la librería de PCA de descomposición de Sklearn como dijimos previamente y analizaremos los resultados obtenidos.\n",
    "\n",
    "1) Realizamos el análisis PCA sobre los datos sin estandarizar."
   ]
  },
  {
   "cell_type": "code",
   "execution_count": 38,
   "metadata": {},
   "outputs": [
    {
     "data": {
      "application/vnd.plotly.v1+json": {
       "config": {
        "plotlyServerURL": "https://plot.ly"
       },
       "data": [
        {
         "hovertemplate": "color=Austria<br>0=%{x}<br>1=%{y}<extra></extra>",
         "legendgroup": "Austria",
         "marker": {
          "color": "#636efa",
          "symbol": "circle"
         },
         "mode": "markers",
         "name": "Austria",
         "orientation": "v",
         "showlegend": true,
         "type": "scatter",
         "x": [
          -82664.43800388841
         ],
         "xaxis": "x",
         "y": [
          8729.286488887179
         ],
         "yaxis": "y"
        },
        {
         "hovertemplate": "color=Belgium<br>0=%{x}<br>1=%{y}<extra></extra>",
         "legendgroup": "Belgium",
         "marker": {
          "color": "#EF553B",
          "symbol": "circle"
         },
         "mode": "markers",
         "name": "Belgium",
         "orientation": "v",
         "showlegend": true,
         "type": "scatter",
         "x": [
          -135956.99247706385
         ],
         "xaxis": "x",
         "y": [
          4277.400317824615
         ],
         "yaxis": "y"
        },
        {
         "hovertemplate": "color=Bulgaria<br>0=%{x}<br>1=%{y}<extra></extra>",
         "legendgroup": "Bulgaria",
         "marker": {
          "color": "#00cc96",
          "symbol": "circle"
         },
         "mode": "markers",
         "name": "Bulgaria",
         "orientation": "v",
         "showlegend": true,
         "type": "scatter",
         "x": [
          -55318.57470325933
         ],
         "xaxis": "x",
         "y": [
          -18738.43800794308
         ],
         "yaxis": "y"
        },
        {
         "hovertemplate": "color=Croatia<br>0=%{x}<br>1=%{y}<extra></extra>",
         "legendgroup": "Croatia",
         "marker": {
          "color": "#ab63fa",
          "symbol": "circle"
         },
         "mode": "markers",
         "name": "Croatia",
         "orientation": "v",
         "showlegend": true,
         "type": "scatter",
         "x": [
          -109650.8665058852
         ],
         "xaxis": "x",
         "y": [
          -15202.439576761728
         ],
         "yaxis": "y"
        },
        {
         "hovertemplate": "color=Czech Republic<br>0=%{x}<br>1=%{y}<extra></extra>",
         "legendgroup": "Czech Republic",
         "marker": {
          "color": "#FFA15A",
          "symbol": "circle"
         },
         "mode": "markers",
         "name": "Czech Republic",
         "orientation": "v",
         "showlegend": true,
         "type": "scatter",
         "x": [
          -87490.78749184545
         ],
         "xaxis": "x",
         "y": [
          -5830.809180678477
         ],
         "yaxis": "y"
        },
        {
         "hovertemplate": "color=Denmark<br>0=%{x}<br>1=%{y}<extra></extra>",
         "legendgroup": "Denmark",
         "marker": {
          "color": "#19d3f3",
          "symbol": "circle"
         },
         "mode": "markers",
         "name": "Denmark",
         "orientation": "v",
         "showlegend": true,
         "type": "scatter",
         "x": [
          -123382.15088818765
         ],
         "xaxis": "x",
         "y": [
          3631.091715655903
         ],
         "yaxis": "y"
        },
        {
         "hovertemplate": "color=Estonia<br>0=%{x}<br>1=%{y}<extra></extra>",
         "legendgroup": "Estonia",
         "marker": {
          "color": "#FF6692",
          "symbol": "circle"
         },
         "mode": "markers",
         "name": "Estonia",
         "orientation": "v",
         "showlegend": true,
         "type": "scatter",
         "x": [
          -121045.3593268569
         ],
         "xaxis": "x",
         "y": [
          -12941.578963774593
         ],
         "yaxis": "y"
        },
        {
         "hovertemplate": "color=Finland<br>0=%{x}<br>1=%{y}<extra></extra>",
         "legendgroup": "Finland",
         "marker": {
          "color": "#B6E880",
          "symbol": "circle"
         },
         "mode": "markers",
         "name": "Finland",
         "orientation": "v",
         "showlegend": true,
         "type": "scatter",
         "x": [
          171659.02299140056
         ],
         "xaxis": "x",
         "y": [
          6238.449869246322
         ],
         "yaxis": "y"
        },
        {
         "hovertemplate": "color=Germany<br>0=%{x}<br>1=%{y}<extra></extra>",
         "legendgroup": "Germany",
         "marker": {
          "color": "#FF97FF",
          "symbol": "circle"
         },
         "mode": "markers",
         "name": "Germany",
         "orientation": "v",
         "showlegend": true,
         "type": "scatter",
         "x": [
          190508.9375923239
         ],
         "xaxis": "x",
         "y": [
          8569.082891624652
         ],
         "yaxis": "y"
        },
        {
         "hovertemplate": "color=Greece<br>0=%{x}<br>1=%{y}<extra></extra>",
         "legendgroup": "Greece",
         "marker": {
          "color": "#FECB52",
          "symbol": "circle"
         },
         "mode": "markers",
         "name": "Greece",
         "orientation": "v",
         "showlegend": true,
         "type": "scatter",
         "x": [
          -34394.97465062543
         ],
         "xaxis": "x",
         "y": [
          -5981.6740301348755
         ],
         "yaxis": "y"
        },
        {
         "hovertemplate": "color=Hungary<br>0=%{x}<br>1=%{y}<extra></extra>",
         "legendgroup": "Hungary",
         "marker": {
          "color": "#636efa",
          "symbol": "circle"
         },
         "mode": "markers",
         "name": "Hungary",
         "orientation": "v",
         "showlegend": true,
         "type": "scatter",
         "x": [
          -73239.15112714349
         ],
         "xaxis": "x",
         "y": [
          -13157.11738846107
         ],
         "yaxis": "y"
        },
        {
         "hovertemplate": "color=Iceland<br>0=%{x}<br>1=%{y}<extra></extra>",
         "legendgroup": "Iceland",
         "marker": {
          "color": "#EF553B",
          "symbol": "circle"
         },
         "mode": "markers",
         "name": "Iceland",
         "orientation": "v",
         "showlegend": true,
         "type": "scatter",
         "x": [
          -63494.076818718575
         ],
         "xaxis": "x",
         "y": [
          5463.4183160031325
         ],
         "yaxis": "y"
        },
        {
         "hovertemplate": "color=Ireland<br>0=%{x}<br>1=%{y}<extra></extra>",
         "legendgroup": "Ireland",
         "marker": {
          "color": "#00cc96",
          "symbol": "circle"
         },
         "mode": "markers",
         "name": "Ireland",
         "orientation": "v",
         "showlegend": true,
         "type": "scatter",
         "x": [
          -96251.64091260199
         ],
         "xaxis": "x",
         "y": [
          7763.0959845620555
         ],
         "yaxis": "y"
        },
        {
         "hovertemplate": "color=Italy<br>0=%{x}<br>1=%{y}<extra></extra>",
         "legendgroup": "Italy",
         "marker": {
          "color": "#ab63fa",
          "symbol": "circle"
         },
         "mode": "markers",
         "name": "Italy",
         "orientation": "v",
         "showlegend": true,
         "type": "scatter",
         "x": [
          134924.01660785018
         ],
         "xaxis": "x",
         "y": [
          288.88471072638356
         ],
         "yaxis": "y"
        },
        {
         "hovertemplate": "color=Latvia<br>0=%{x}<br>1=%{y}<extra></extra>",
         "legendgroup": "Latvia",
         "marker": {
          "color": "#FFA15A",
          "symbol": "circle"
         },
         "mode": "markers",
         "name": "Latvia",
         "orientation": "v",
         "showlegend": true,
         "type": "scatter",
         "x": [
          -101641.79288895376
         ],
         "xaxis": "x",
         "y": [
          -16304.60297352263
         ],
         "yaxis": "y"
        },
        {
         "hovertemplate": "color=Lithuania<br>0=%{x}<br>1=%{y}<extra></extra>",
         "legendgroup": "Lithuania",
         "marker": {
          "color": "#19d3f3",
          "symbol": "circle"
         },
         "mode": "markers",
         "name": "Lithuania",
         "orientation": "v",
         "showlegend": true,
         "type": "scatter",
         "x": [
          -100958.9657520614
         ],
         "xaxis": "x",
         "y": [
          -13996.082292398922
         ],
         "yaxis": "y"
        },
        {
         "hovertemplate": "color=Luxembourg<br>0=%{x}<br>1=%{y}<extra></extra>",
         "legendgroup": "Luxembourg",
         "marker": {
          "color": "#FF6692",
          "symbol": "circle"
         },
         "mode": "markers",
         "name": "Luxembourg",
         "orientation": "v",
         "showlegend": true,
         "type": "scatter",
         "x": [
          -164420.1754594505
         ],
         "xaxis": "x",
         "y": [
          46732.582587171535
         ],
         "yaxis": "y"
        },
        {
         "hovertemplate": "color=Netherlands<br>0=%{x}<br>1=%{y}<extra></extra>",
         "legendgroup": "Netherlands",
         "marker": {
          "color": "#B6E880",
          "symbol": "circle"
         },
         "mode": "markers",
         "name": "Netherlands",
         "orientation": "v",
         "showlegend": true,
         "type": "scatter",
         "x": [
          -124994.1648021761
         ],
         "xaxis": "x",
         "y": [
          8611.756048860634
         ],
         "yaxis": "y"
        },
        {
         "hovertemplate": "color=Norway<br>0=%{x}<br>1=%{y}<extra></extra>",
         "legendgroup": "Norway",
         "marker": {
          "color": "#FF97FF",
          "symbol": "circle"
         },
         "mode": "markers",
         "name": "Norway",
         "orientation": "v",
         "showlegend": true,
         "type": "scatter",
         "x": [
          157104.3631609213
         ],
         "xaxis": "x",
         "y": [
          23461.792876392137
         ],
         "yaxis": "y"
        },
        {
         "hovertemplate": "color=Poland<br>0=%{x}<br>1=%{y}<extra></extra>",
         "legendgroup": "Poland",
         "marker": {
          "color": "#FECB52",
          "symbol": "circle"
         },
         "mode": "markers",
         "name": "Poland",
         "orientation": "v",
         "showlegend": true,
         "type": "scatter",
         "x": [
          146394.09614674986
         ],
         "xaxis": "x",
         "y": [
          -9871.643223635007
         ],
         "yaxis": "y"
        },
        {
         "hovertemplate": "color=Portugal<br>0=%{x}<br>1=%{y}<extra></extra>",
         "legendgroup": "Portugal",
         "marker": {
          "color": "#636efa",
          "symbol": "circle"
         },
         "mode": "markers",
         "name": "Portugal",
         "orientation": "v",
         "showlegend": true,
         "type": "scatter",
         "x": [
          -74223.53969418468
         ],
         "xaxis": "x",
         "y": [
          -9368.869189606296
         ],
         "yaxis": "y"
        },
        {
         "hovertemplate": "color=Slovakia<br>0=%{x}<br>1=%{y}<extra></extra>",
         "legendgroup": "Slovakia",
         "marker": {
          "color": "#EF553B",
          "symbol": "circle"
         },
         "mode": "markers",
         "name": "Slovakia",
         "orientation": "v",
         "showlegend": true,
         "type": "scatter",
         "x": [
          -117274.09916859465
         ],
         "xaxis": "x",
         "y": [
          -9995.25119317695
         ],
         "yaxis": "y"
        },
        {
         "hovertemplate": "color=Slovenia<br>0=%{x}<br>1=%{y}<extra></extra>",
         "legendgroup": "Slovenia",
         "marker": {
          "color": "#00cc96",
          "symbol": "circle"
         },
         "mode": "markers",
         "name": "Slovenia",
         "orientation": "v",
         "showlegend": true,
         "type": "scatter",
         "x": [
          -146101.19232123005
         ],
         "xaxis": "x",
         "y": [
          -4847.305122066812
         ],
         "yaxis": "y"
        },
        {
         "hovertemplate": "color=Spain<br>0=%{x}<br>1=%{y}<extra></extra>",
         "legendgroup": "Spain",
         "marker": {
          "color": "#ab63fa",
          "symbol": "circle"
         },
         "mode": "markers",
         "name": "Spain",
         "orientation": "v",
         "showlegend": true,
         "type": "scatter",
         "x": [
          338938.7674311825
         ],
         "xaxis": "x",
         "y": [
          2783.34626050184
         ],
         "yaxis": "y"
        },
        {
         "hovertemplate": "color=Sweden<br>0=%{x}<br>1=%{y}<extra></extra>",
         "legendgroup": "Sweden",
         "marker": {
          "color": "#FFA15A",
          "symbol": "circle"
         },
         "mode": "markers",
         "name": "Sweden",
         "orientation": "v",
         "showlegend": true,
         "type": "scatter",
         "x": [
          283743.17886450706
         ],
         "xaxis": "x",
         "y": [
          12309.240943129627
         ],
         "yaxis": "y"
        },
        {
         "hovertemplate": "color=Switzerland<br>0=%{x}<br>1=%{y}<extra></extra>",
         "legendgroup": "Switzerland",
         "marker": {
          "color": "#19d3f3",
          "symbol": "circle"
         },
         "mode": "markers",
         "name": "Switzerland",
         "orientation": "v",
         "showlegend": true,
         "type": "scatter",
         "x": [
          -125290.7098448438
         ],
         "xaxis": "x",
         "y": [
          11108.317451228335
         ],
         "yaxis": "y"
        },
        {
         "hovertemplate": "color=Ukraine<br>0=%{x}<br>1=%{y}<extra></extra>",
         "legendgroup": "Ukraine",
         "marker": {
          "color": "#FF6692",
          "symbol": "circle"
         },
         "mode": "markers",
         "name": "Ukraine",
         "orientation": "v",
         "showlegend": true,
         "type": "scatter",
         "x": [
          437396.2944922998
         ],
         "xaxis": "x",
         "y": [
          -19314.566085966148
         ],
         "yaxis": "y"
        },
        {
         "hovertemplate": "color=United Kingdom<br>0=%{x}<br>1=%{y}<extra></extra>",
         "legendgroup": "United Kingdom",
         "marker": {
          "color": "#B6E880",
          "symbol": "circle"
         },
         "mode": "markers",
         "name": "United Kingdom",
         "orientation": "v",
         "showlegend": true,
         "type": "scatter",
         "x": [
          77124.97555033618
         ],
         "xaxis": "x",
         "y": [
          5582.630766312243
         ],
         "yaxis": "y"
        }
       ],
       "layout": {
        "annotations": [
         {
          "ax": 0,
          "ay": 0,
          "text": "Area",
          "x": 165538.58283596745,
          "xanchor": "center",
          "y": 175.58017820068739,
          "yanchor": "bottom"
         },
         {
          "ax": 0,
          "ay": 0,
          "text": "GDP",
          "x": -2024.020432749474,
          "xanchor": "center",
          "y": 14360.17770508688,
          "yanchor": "bottom"
         },
         {
          "ax": 0,
          "ay": 0,
          "text": "Inflation",
          "x": 0.4482399477521623,
          "xanchor": "center",
          "y": -0.6326322206099326,
          "yanchor": "bottom"
         },
         {
          "ax": 0,
          "ay": 0,
          "text": "Life.expect",
          "x": -0.07149501285919843,
          "xanchor": "center",
          "y": 2.247546894751649,
          "yanchor": "bottom"
         },
         {
          "ax": 0,
          "ay": 0,
          "text": "Military",
          "x": 0.08172256432179005,
          "xanchor": "center",
          "y": -0.21868939853613711,
          "yanchor": "bottom"
         },
         {
          "ax": 0,
          "ay": 0,
          "text": "Pop.growth",
          "x": -0.04488670971989802,
          "xanchor": "center",
          "y": 0.3791525935618104,
          "yanchor": "bottom"
         },
         {
          "ax": 0,
          "ay": 0,
          "text": "Unemployment",
          "x": 0.1216743069866884,
          "xanchor": "center",
          "y": -2.476027258117278,
          "yanchor": "bottom"
         }
        ],
        "legend": {
         "title": {
          "text": "color"
         },
         "tracegroupgap": 0
        },
        "margin": {
         "t": 60
        },
        "shapes": [
         {
          "type": "line",
          "x0": 0,
          "x1": 165538.58283596745,
          "y0": 0,
          "y1": 175.58017820068739
         },
         {
          "type": "line",
          "x0": 0,
          "x1": -2024.020432749474,
          "y0": 0,
          "y1": 14360.17770508688
         },
         {
          "type": "line",
          "x0": 0,
          "x1": 0.4482399477521623,
          "y0": 0,
          "y1": -0.6326322206099326
         },
         {
          "type": "line",
          "x0": 0,
          "x1": -0.07149501285919843,
          "y0": 0,
          "y1": 2.247546894751649
         },
         {
          "type": "line",
          "x0": 0,
          "x1": 0.08172256432179005,
          "y0": 0,
          "y1": -0.21868939853613711
         },
         {
          "type": "line",
          "x0": 0,
          "x1": -0.04488670971989802,
          "y0": 0,
          "y1": 0.3791525935618104
         },
         {
          "type": "line",
          "x0": 0,
          "x1": 0.1216743069866884,
          "y0": 0,
          "y1": -2.476027258117278
         }
        ],
        "template": {
         "data": {
          "bar": [
           {
            "error_x": {
             "color": "#2a3f5f"
            },
            "error_y": {
             "color": "#2a3f5f"
            },
            "marker": {
             "line": {
              "color": "#E5ECF6",
              "width": 0.5
             }
            },
            "type": "bar"
           }
          ],
          "barpolar": [
           {
            "marker": {
             "line": {
              "color": "#E5ECF6",
              "width": 0.5
             }
            },
            "type": "barpolar"
           }
          ],
          "carpet": [
           {
            "aaxis": {
             "endlinecolor": "#2a3f5f",
             "gridcolor": "white",
             "linecolor": "white",
             "minorgridcolor": "white",
             "startlinecolor": "#2a3f5f"
            },
            "baxis": {
             "endlinecolor": "#2a3f5f",
             "gridcolor": "white",
             "linecolor": "white",
             "minorgridcolor": "white",
             "startlinecolor": "#2a3f5f"
            },
            "type": "carpet"
           }
          ],
          "choropleth": [
           {
            "colorbar": {
             "outlinewidth": 0,
             "ticks": ""
            },
            "type": "choropleth"
           }
          ],
          "contour": [
           {
            "colorbar": {
             "outlinewidth": 0,
             "ticks": ""
            },
            "colorscale": [
             [
              0,
              "#0d0887"
             ],
             [
              0.1111111111111111,
              "#46039f"
             ],
             [
              0.2222222222222222,
              "#7201a8"
             ],
             [
              0.3333333333333333,
              "#9c179e"
             ],
             [
              0.4444444444444444,
              "#bd3786"
             ],
             [
              0.5555555555555556,
              "#d8576b"
             ],
             [
              0.6666666666666666,
              "#ed7953"
             ],
             [
              0.7777777777777778,
              "#fb9f3a"
             ],
             [
              0.8888888888888888,
              "#fdca26"
             ],
             [
              1,
              "#f0f921"
             ]
            ],
            "type": "contour"
           }
          ],
          "contourcarpet": [
           {
            "colorbar": {
             "outlinewidth": 0,
             "ticks": ""
            },
            "type": "contourcarpet"
           }
          ],
          "heatmap": [
           {
            "colorbar": {
             "outlinewidth": 0,
             "ticks": ""
            },
            "colorscale": [
             [
              0,
              "#0d0887"
             ],
             [
              0.1111111111111111,
              "#46039f"
             ],
             [
              0.2222222222222222,
              "#7201a8"
             ],
             [
              0.3333333333333333,
              "#9c179e"
             ],
             [
              0.4444444444444444,
              "#bd3786"
             ],
             [
              0.5555555555555556,
              "#d8576b"
             ],
             [
              0.6666666666666666,
              "#ed7953"
             ],
             [
              0.7777777777777778,
              "#fb9f3a"
             ],
             [
              0.8888888888888888,
              "#fdca26"
             ],
             [
              1,
              "#f0f921"
             ]
            ],
            "type": "heatmap"
           }
          ],
          "heatmapgl": [
           {
            "colorbar": {
             "outlinewidth": 0,
             "ticks": ""
            },
            "colorscale": [
             [
              0,
              "#0d0887"
             ],
             [
              0.1111111111111111,
              "#46039f"
             ],
             [
              0.2222222222222222,
              "#7201a8"
             ],
             [
              0.3333333333333333,
              "#9c179e"
             ],
             [
              0.4444444444444444,
              "#bd3786"
             ],
             [
              0.5555555555555556,
              "#d8576b"
             ],
             [
              0.6666666666666666,
              "#ed7953"
             ],
             [
              0.7777777777777778,
              "#fb9f3a"
             ],
             [
              0.8888888888888888,
              "#fdca26"
             ],
             [
              1,
              "#f0f921"
             ]
            ],
            "type": "heatmapgl"
           }
          ],
          "histogram": [
           {
            "marker": {
             "colorbar": {
              "outlinewidth": 0,
              "ticks": ""
             }
            },
            "type": "histogram"
           }
          ],
          "histogram2d": [
           {
            "colorbar": {
             "outlinewidth": 0,
             "ticks": ""
            },
            "colorscale": [
             [
              0,
              "#0d0887"
             ],
             [
              0.1111111111111111,
              "#46039f"
             ],
             [
              0.2222222222222222,
              "#7201a8"
             ],
             [
              0.3333333333333333,
              "#9c179e"
             ],
             [
              0.4444444444444444,
              "#bd3786"
             ],
             [
              0.5555555555555556,
              "#d8576b"
             ],
             [
              0.6666666666666666,
              "#ed7953"
             ],
             [
              0.7777777777777778,
              "#fb9f3a"
             ],
             [
              0.8888888888888888,
              "#fdca26"
             ],
             [
              1,
              "#f0f921"
             ]
            ],
            "type": "histogram2d"
           }
          ],
          "histogram2dcontour": [
           {
            "colorbar": {
             "outlinewidth": 0,
             "ticks": ""
            },
            "colorscale": [
             [
              0,
              "#0d0887"
             ],
             [
              0.1111111111111111,
              "#46039f"
             ],
             [
              0.2222222222222222,
              "#7201a8"
             ],
             [
              0.3333333333333333,
              "#9c179e"
             ],
             [
              0.4444444444444444,
              "#bd3786"
             ],
             [
              0.5555555555555556,
              "#d8576b"
             ],
             [
              0.6666666666666666,
              "#ed7953"
             ],
             [
              0.7777777777777778,
              "#fb9f3a"
             ],
             [
              0.8888888888888888,
              "#fdca26"
             ],
             [
              1,
              "#f0f921"
             ]
            ],
            "type": "histogram2dcontour"
           }
          ],
          "mesh3d": [
           {
            "colorbar": {
             "outlinewidth": 0,
             "ticks": ""
            },
            "type": "mesh3d"
           }
          ],
          "parcoords": [
           {
            "line": {
             "colorbar": {
              "outlinewidth": 0,
              "ticks": ""
             }
            },
            "type": "parcoords"
           }
          ],
          "pie": [
           {
            "automargin": true,
            "type": "pie"
           }
          ],
          "scatter": [
           {
            "marker": {
             "colorbar": {
              "outlinewidth": 0,
              "ticks": ""
             }
            },
            "type": "scatter"
           }
          ],
          "scatter3d": [
           {
            "line": {
             "colorbar": {
              "outlinewidth": 0,
              "ticks": ""
             }
            },
            "marker": {
             "colorbar": {
              "outlinewidth": 0,
              "ticks": ""
             }
            },
            "type": "scatter3d"
           }
          ],
          "scattercarpet": [
           {
            "marker": {
             "colorbar": {
              "outlinewidth": 0,
              "ticks": ""
             }
            },
            "type": "scattercarpet"
           }
          ],
          "scattergeo": [
           {
            "marker": {
             "colorbar": {
              "outlinewidth": 0,
              "ticks": ""
             }
            },
            "type": "scattergeo"
           }
          ],
          "scattergl": [
           {
            "marker": {
             "colorbar": {
              "outlinewidth": 0,
              "ticks": ""
             }
            },
            "type": "scattergl"
           }
          ],
          "scattermapbox": [
           {
            "marker": {
             "colorbar": {
              "outlinewidth": 0,
              "ticks": ""
             }
            },
            "type": "scattermapbox"
           }
          ],
          "scatterpolar": [
           {
            "marker": {
             "colorbar": {
              "outlinewidth": 0,
              "ticks": ""
             }
            },
            "type": "scatterpolar"
           }
          ],
          "scatterpolargl": [
           {
            "marker": {
             "colorbar": {
              "outlinewidth": 0,
              "ticks": ""
             }
            },
            "type": "scatterpolargl"
           }
          ],
          "scatterternary": [
           {
            "marker": {
             "colorbar": {
              "outlinewidth": 0,
              "ticks": ""
             }
            },
            "type": "scatterternary"
           }
          ],
          "surface": [
           {
            "colorbar": {
             "outlinewidth": 0,
             "ticks": ""
            },
            "colorscale": [
             [
              0,
              "#0d0887"
             ],
             [
              0.1111111111111111,
              "#46039f"
             ],
             [
              0.2222222222222222,
              "#7201a8"
             ],
             [
              0.3333333333333333,
              "#9c179e"
             ],
             [
              0.4444444444444444,
              "#bd3786"
             ],
             [
              0.5555555555555556,
              "#d8576b"
             ],
             [
              0.6666666666666666,
              "#ed7953"
             ],
             [
              0.7777777777777778,
              "#fb9f3a"
             ],
             [
              0.8888888888888888,
              "#fdca26"
             ],
             [
              1,
              "#f0f921"
             ]
            ],
            "type": "surface"
           }
          ],
          "table": [
           {
            "cells": {
             "fill": {
              "color": "#EBF0F8"
             },
             "line": {
              "color": "white"
             }
            },
            "header": {
             "fill": {
              "color": "#C8D4E3"
             },
             "line": {
              "color": "white"
             }
            },
            "type": "table"
           }
          ]
         },
         "layout": {
          "annotationdefaults": {
           "arrowcolor": "#2a3f5f",
           "arrowhead": 0,
           "arrowwidth": 1
          },
          "coloraxis": {
           "colorbar": {
            "outlinewidth": 0,
            "ticks": ""
           }
          },
          "colorscale": {
           "diverging": [
            [
             0,
             "#8e0152"
            ],
            [
             0.1,
             "#c51b7d"
            ],
            [
             0.2,
             "#de77ae"
            ],
            [
             0.3,
             "#f1b6da"
            ],
            [
             0.4,
             "#fde0ef"
            ],
            [
             0.5,
             "#f7f7f7"
            ],
            [
             0.6,
             "#e6f5d0"
            ],
            [
             0.7,
             "#b8e186"
            ],
            [
             0.8,
             "#7fbc41"
            ],
            [
             0.9,
             "#4d9221"
            ],
            [
             1,
             "#276419"
            ]
           ],
           "sequential": [
            [
             0,
             "#0d0887"
            ],
            [
             0.1111111111111111,
             "#46039f"
            ],
            [
             0.2222222222222222,
             "#7201a8"
            ],
            [
             0.3333333333333333,
             "#9c179e"
            ],
            [
             0.4444444444444444,
             "#bd3786"
            ],
            [
             0.5555555555555556,
             "#d8576b"
            ],
            [
             0.6666666666666666,
             "#ed7953"
            ],
            [
             0.7777777777777778,
             "#fb9f3a"
            ],
            [
             0.8888888888888888,
             "#fdca26"
            ],
            [
             1,
             "#f0f921"
            ]
           ],
           "sequentialminus": [
            [
             0,
             "#0d0887"
            ],
            [
             0.1111111111111111,
             "#46039f"
            ],
            [
             0.2222222222222222,
             "#7201a8"
            ],
            [
             0.3333333333333333,
             "#9c179e"
            ],
            [
             0.4444444444444444,
             "#bd3786"
            ],
            [
             0.5555555555555556,
             "#d8576b"
            ],
            [
             0.6666666666666666,
             "#ed7953"
            ],
            [
             0.7777777777777778,
             "#fb9f3a"
            ],
            [
             0.8888888888888888,
             "#fdca26"
            ],
            [
             1,
             "#f0f921"
            ]
           ]
          },
          "colorway": [
           "#636efa",
           "#EF553B",
           "#00cc96",
           "#ab63fa",
           "#FFA15A",
           "#19d3f3",
           "#FF6692",
           "#B6E880",
           "#FF97FF",
           "#FECB52"
          ],
          "font": {
           "color": "#2a3f5f"
          },
          "geo": {
           "bgcolor": "white",
           "lakecolor": "white",
           "landcolor": "#E5ECF6",
           "showlakes": true,
           "showland": true,
           "subunitcolor": "white"
          },
          "hoverlabel": {
           "align": "left"
          },
          "hovermode": "closest",
          "mapbox": {
           "style": "light"
          },
          "paper_bgcolor": "white",
          "plot_bgcolor": "#E5ECF6",
          "polar": {
           "angularaxis": {
            "gridcolor": "white",
            "linecolor": "white",
            "ticks": ""
           },
           "bgcolor": "#E5ECF6",
           "radialaxis": {
            "gridcolor": "white",
            "linecolor": "white",
            "ticks": ""
           }
          },
          "scene": {
           "xaxis": {
            "backgroundcolor": "#E5ECF6",
            "gridcolor": "white",
            "gridwidth": 2,
            "linecolor": "white",
            "showbackground": true,
            "ticks": "",
            "zerolinecolor": "white"
           },
           "yaxis": {
            "backgroundcolor": "#E5ECF6",
            "gridcolor": "white",
            "gridwidth": 2,
            "linecolor": "white",
            "showbackground": true,
            "ticks": "",
            "zerolinecolor": "white"
           },
           "zaxis": {
            "backgroundcolor": "#E5ECF6",
            "gridcolor": "white",
            "gridwidth": 2,
            "linecolor": "white",
            "showbackground": true,
            "ticks": "",
            "zerolinecolor": "white"
           }
          },
          "shapedefaults": {
           "line": {
            "color": "#2a3f5f"
           }
          },
          "ternary": {
           "aaxis": {
            "gridcolor": "white",
            "linecolor": "white",
            "ticks": ""
           },
           "baxis": {
            "gridcolor": "white",
            "linecolor": "white",
            "ticks": ""
           },
           "bgcolor": "#E5ECF6",
           "caxis": {
            "gridcolor": "white",
            "linecolor": "white",
            "ticks": ""
           }
          },
          "title": {
           "x": 0.05
          },
          "xaxis": {
           "automargin": true,
           "gridcolor": "white",
           "linecolor": "white",
           "ticks": "",
           "title": {
            "standoff": 15
           },
           "zerolinecolor": "white",
           "zerolinewidth": 2
          },
          "yaxis": {
           "automargin": true,
           "gridcolor": "white",
           "linecolor": "white",
           "ticks": "",
           "title": {
            "standoff": 15
           },
           "zerolinecolor": "white",
           "zerolinewidth": 2
          }
         }
        },
        "xaxis": {
         "anchor": "y",
         "domain": [
          0,
          1
         ],
         "title": {
          "text": "0"
         }
        },
        "yaxis": {
         "anchor": "x",
         "domain": [
          0,
          1
         ],
         "title": {
          "text": "1"
         }
        }
       }
      },
      "text/html": [
       "<div>                            <div id=\"49d7d3b0-ea8e-40ee-b780-c417087b4336\" class=\"plotly-graph-div\" style=\"height:525px; width:100%;\"></div>            <script type=\"text/javascript\">                require([\"plotly\"], function(Plotly) {                    window.PLOTLYENV=window.PLOTLYENV || {};                                    if (document.getElementById(\"49d7d3b0-ea8e-40ee-b780-c417087b4336\")) {                    Plotly.newPlot(                        \"49d7d3b0-ea8e-40ee-b780-c417087b4336\",                        [{\"hovertemplate\": \"color=Austria<br>0=%{x}<br>1=%{y}<extra></extra>\", \"legendgroup\": \"Austria\", \"marker\": {\"color\": \"#636efa\", \"symbol\": \"circle\"}, \"mode\": \"markers\", \"name\": \"Austria\", \"orientation\": \"v\", \"showlegend\": true, \"type\": \"scatter\", \"x\": [-82664.43800388841], \"xaxis\": \"x\", \"y\": [8729.286488887179], \"yaxis\": \"y\"}, {\"hovertemplate\": \"color=Belgium<br>0=%{x}<br>1=%{y}<extra></extra>\", \"legendgroup\": \"Belgium\", \"marker\": {\"color\": \"#EF553B\", \"symbol\": \"circle\"}, \"mode\": \"markers\", \"name\": \"Belgium\", \"orientation\": \"v\", \"showlegend\": true, \"type\": \"scatter\", \"x\": [-135956.99247706385], \"xaxis\": \"x\", \"y\": [4277.400317824615], \"yaxis\": \"y\"}, {\"hovertemplate\": \"color=Bulgaria<br>0=%{x}<br>1=%{y}<extra></extra>\", \"legendgroup\": \"Bulgaria\", \"marker\": {\"color\": \"#00cc96\", \"symbol\": \"circle\"}, \"mode\": \"markers\", \"name\": \"Bulgaria\", \"orientation\": \"v\", \"showlegend\": true, \"type\": \"scatter\", \"x\": [-55318.57470325933], \"xaxis\": \"x\", \"y\": [-18738.43800794308], \"yaxis\": \"y\"}, {\"hovertemplate\": \"color=Croatia<br>0=%{x}<br>1=%{y}<extra></extra>\", \"legendgroup\": \"Croatia\", \"marker\": {\"color\": \"#ab63fa\", \"symbol\": \"circle\"}, \"mode\": \"markers\", \"name\": \"Croatia\", \"orientation\": \"v\", \"showlegend\": true, \"type\": \"scatter\", \"x\": [-109650.8665058852], \"xaxis\": \"x\", \"y\": [-15202.439576761728], \"yaxis\": \"y\"}, {\"hovertemplate\": \"color=Czech Republic<br>0=%{x}<br>1=%{y}<extra></extra>\", \"legendgroup\": \"Czech Republic\", \"marker\": {\"color\": \"#FFA15A\", \"symbol\": \"circle\"}, \"mode\": \"markers\", \"name\": \"Czech Republic\", \"orientation\": \"v\", \"showlegend\": true, \"type\": \"scatter\", \"x\": [-87490.78749184545], \"xaxis\": \"x\", \"y\": [-5830.809180678477], \"yaxis\": \"y\"}, {\"hovertemplate\": \"color=Denmark<br>0=%{x}<br>1=%{y}<extra></extra>\", \"legendgroup\": \"Denmark\", \"marker\": {\"color\": \"#19d3f3\", \"symbol\": \"circle\"}, \"mode\": \"markers\", \"name\": \"Denmark\", \"orientation\": \"v\", \"showlegend\": true, \"type\": \"scatter\", \"x\": [-123382.15088818765], \"xaxis\": \"x\", \"y\": [3631.091715655903], \"yaxis\": \"y\"}, {\"hovertemplate\": \"color=Estonia<br>0=%{x}<br>1=%{y}<extra></extra>\", \"legendgroup\": \"Estonia\", \"marker\": {\"color\": \"#FF6692\", \"symbol\": \"circle\"}, \"mode\": \"markers\", \"name\": \"Estonia\", \"orientation\": \"v\", \"showlegend\": true, \"type\": \"scatter\", \"x\": [-121045.3593268569], \"xaxis\": \"x\", \"y\": [-12941.578963774593], \"yaxis\": \"y\"}, {\"hovertemplate\": \"color=Finland<br>0=%{x}<br>1=%{y}<extra></extra>\", \"legendgroup\": \"Finland\", \"marker\": {\"color\": \"#B6E880\", \"symbol\": \"circle\"}, \"mode\": \"markers\", \"name\": \"Finland\", \"orientation\": \"v\", \"showlegend\": true, \"type\": \"scatter\", \"x\": [171659.02299140056], \"xaxis\": \"x\", \"y\": [6238.449869246322], \"yaxis\": \"y\"}, {\"hovertemplate\": \"color=Germany<br>0=%{x}<br>1=%{y}<extra></extra>\", \"legendgroup\": \"Germany\", \"marker\": {\"color\": \"#FF97FF\", \"symbol\": \"circle\"}, \"mode\": \"markers\", \"name\": \"Germany\", \"orientation\": \"v\", \"showlegend\": true, \"type\": \"scatter\", \"x\": [190508.9375923239], \"xaxis\": \"x\", \"y\": [8569.082891624652], \"yaxis\": \"y\"}, {\"hovertemplate\": \"color=Greece<br>0=%{x}<br>1=%{y}<extra></extra>\", \"legendgroup\": \"Greece\", \"marker\": {\"color\": \"#FECB52\", \"symbol\": \"circle\"}, \"mode\": \"markers\", \"name\": \"Greece\", \"orientation\": \"v\", \"showlegend\": true, \"type\": \"scatter\", \"x\": [-34394.97465062543], \"xaxis\": \"x\", \"y\": [-5981.6740301348755], \"yaxis\": \"y\"}, {\"hovertemplate\": \"color=Hungary<br>0=%{x}<br>1=%{y}<extra></extra>\", \"legendgroup\": \"Hungary\", \"marker\": {\"color\": \"#636efa\", \"symbol\": \"circle\"}, \"mode\": \"markers\", \"name\": \"Hungary\", \"orientation\": \"v\", \"showlegend\": true, \"type\": \"scatter\", \"x\": [-73239.15112714349], \"xaxis\": \"x\", \"y\": [-13157.11738846107], \"yaxis\": \"y\"}, {\"hovertemplate\": \"color=Iceland<br>0=%{x}<br>1=%{y}<extra></extra>\", \"legendgroup\": \"Iceland\", \"marker\": {\"color\": \"#EF553B\", \"symbol\": \"circle\"}, \"mode\": \"markers\", \"name\": \"Iceland\", \"orientation\": \"v\", \"showlegend\": true, \"type\": \"scatter\", \"x\": [-63494.076818718575], \"xaxis\": \"x\", \"y\": [5463.4183160031325], \"yaxis\": \"y\"}, {\"hovertemplate\": \"color=Ireland<br>0=%{x}<br>1=%{y}<extra></extra>\", \"legendgroup\": \"Ireland\", \"marker\": {\"color\": \"#00cc96\", \"symbol\": \"circle\"}, \"mode\": \"markers\", \"name\": \"Ireland\", \"orientation\": \"v\", \"showlegend\": true, \"type\": \"scatter\", \"x\": [-96251.64091260199], \"xaxis\": \"x\", \"y\": [7763.0959845620555], \"yaxis\": \"y\"}, {\"hovertemplate\": \"color=Italy<br>0=%{x}<br>1=%{y}<extra></extra>\", \"legendgroup\": \"Italy\", \"marker\": {\"color\": \"#ab63fa\", \"symbol\": \"circle\"}, \"mode\": \"markers\", \"name\": \"Italy\", \"orientation\": \"v\", \"showlegend\": true, \"type\": \"scatter\", \"x\": [134924.01660785018], \"xaxis\": \"x\", \"y\": [288.88471072638356], \"yaxis\": \"y\"}, {\"hovertemplate\": \"color=Latvia<br>0=%{x}<br>1=%{y}<extra></extra>\", \"legendgroup\": \"Latvia\", \"marker\": {\"color\": \"#FFA15A\", \"symbol\": \"circle\"}, \"mode\": \"markers\", \"name\": \"Latvia\", \"orientation\": \"v\", \"showlegend\": true, \"type\": \"scatter\", \"x\": [-101641.79288895376], \"xaxis\": \"x\", \"y\": [-16304.60297352263], \"yaxis\": \"y\"}, {\"hovertemplate\": \"color=Lithuania<br>0=%{x}<br>1=%{y}<extra></extra>\", \"legendgroup\": \"Lithuania\", \"marker\": {\"color\": \"#19d3f3\", \"symbol\": \"circle\"}, \"mode\": \"markers\", \"name\": \"Lithuania\", \"orientation\": \"v\", \"showlegend\": true, \"type\": \"scatter\", \"x\": [-100958.9657520614], \"xaxis\": \"x\", \"y\": [-13996.082292398922], \"yaxis\": \"y\"}, {\"hovertemplate\": \"color=Luxembourg<br>0=%{x}<br>1=%{y}<extra></extra>\", \"legendgroup\": \"Luxembourg\", \"marker\": {\"color\": \"#FF6692\", \"symbol\": \"circle\"}, \"mode\": \"markers\", \"name\": \"Luxembourg\", \"orientation\": \"v\", \"showlegend\": true, \"type\": \"scatter\", \"x\": [-164420.1754594505], \"xaxis\": \"x\", \"y\": [46732.582587171535], \"yaxis\": \"y\"}, {\"hovertemplate\": \"color=Netherlands<br>0=%{x}<br>1=%{y}<extra></extra>\", \"legendgroup\": \"Netherlands\", \"marker\": {\"color\": \"#B6E880\", \"symbol\": \"circle\"}, \"mode\": \"markers\", \"name\": \"Netherlands\", \"orientation\": \"v\", \"showlegend\": true, \"type\": \"scatter\", \"x\": [-124994.1648021761], \"xaxis\": \"x\", \"y\": [8611.756048860634], \"yaxis\": \"y\"}, {\"hovertemplate\": \"color=Norway<br>0=%{x}<br>1=%{y}<extra></extra>\", \"legendgroup\": \"Norway\", \"marker\": {\"color\": \"#FF97FF\", \"symbol\": \"circle\"}, \"mode\": \"markers\", \"name\": \"Norway\", \"orientation\": \"v\", \"showlegend\": true, \"type\": \"scatter\", \"x\": [157104.3631609213], \"xaxis\": \"x\", \"y\": [23461.792876392137], \"yaxis\": \"y\"}, {\"hovertemplate\": \"color=Poland<br>0=%{x}<br>1=%{y}<extra></extra>\", \"legendgroup\": \"Poland\", \"marker\": {\"color\": \"#FECB52\", \"symbol\": \"circle\"}, \"mode\": \"markers\", \"name\": \"Poland\", \"orientation\": \"v\", \"showlegend\": true, \"type\": \"scatter\", \"x\": [146394.09614674986], \"xaxis\": \"x\", \"y\": [-9871.643223635007], \"yaxis\": \"y\"}, {\"hovertemplate\": \"color=Portugal<br>0=%{x}<br>1=%{y}<extra></extra>\", \"legendgroup\": \"Portugal\", \"marker\": {\"color\": \"#636efa\", \"symbol\": \"circle\"}, \"mode\": \"markers\", \"name\": \"Portugal\", \"orientation\": \"v\", \"showlegend\": true, \"type\": \"scatter\", \"x\": [-74223.53969418468], \"xaxis\": \"x\", \"y\": [-9368.869189606296], \"yaxis\": \"y\"}, {\"hovertemplate\": \"color=Slovakia<br>0=%{x}<br>1=%{y}<extra></extra>\", \"legendgroup\": \"Slovakia\", \"marker\": {\"color\": \"#EF553B\", \"symbol\": \"circle\"}, \"mode\": \"markers\", \"name\": \"Slovakia\", \"orientation\": \"v\", \"showlegend\": true, \"type\": \"scatter\", \"x\": [-117274.09916859465], \"xaxis\": \"x\", \"y\": [-9995.25119317695], \"yaxis\": \"y\"}, {\"hovertemplate\": \"color=Slovenia<br>0=%{x}<br>1=%{y}<extra></extra>\", \"legendgroup\": \"Slovenia\", \"marker\": {\"color\": \"#00cc96\", \"symbol\": \"circle\"}, \"mode\": \"markers\", \"name\": \"Slovenia\", \"orientation\": \"v\", \"showlegend\": true, \"type\": \"scatter\", \"x\": [-146101.19232123005], \"xaxis\": \"x\", \"y\": [-4847.305122066812], \"yaxis\": \"y\"}, {\"hovertemplate\": \"color=Spain<br>0=%{x}<br>1=%{y}<extra></extra>\", \"legendgroup\": \"Spain\", \"marker\": {\"color\": \"#ab63fa\", \"symbol\": \"circle\"}, \"mode\": \"markers\", \"name\": \"Spain\", \"orientation\": \"v\", \"showlegend\": true, \"type\": \"scatter\", \"x\": [338938.7674311825], \"xaxis\": \"x\", \"y\": [2783.34626050184], \"yaxis\": \"y\"}, {\"hovertemplate\": \"color=Sweden<br>0=%{x}<br>1=%{y}<extra></extra>\", \"legendgroup\": \"Sweden\", \"marker\": {\"color\": \"#FFA15A\", \"symbol\": \"circle\"}, \"mode\": \"markers\", \"name\": \"Sweden\", \"orientation\": \"v\", \"showlegend\": true, \"type\": \"scatter\", \"x\": [283743.17886450706], \"xaxis\": \"x\", \"y\": [12309.240943129627], \"yaxis\": \"y\"}, {\"hovertemplate\": \"color=Switzerland<br>0=%{x}<br>1=%{y}<extra></extra>\", \"legendgroup\": \"Switzerland\", \"marker\": {\"color\": \"#19d3f3\", \"symbol\": \"circle\"}, \"mode\": \"markers\", \"name\": \"Switzerland\", \"orientation\": \"v\", \"showlegend\": true, \"type\": \"scatter\", \"x\": [-125290.7098448438], \"xaxis\": \"x\", \"y\": [11108.317451228335], \"yaxis\": \"y\"}, {\"hovertemplate\": \"color=Ukraine<br>0=%{x}<br>1=%{y}<extra></extra>\", \"legendgroup\": \"Ukraine\", \"marker\": {\"color\": \"#FF6692\", \"symbol\": \"circle\"}, \"mode\": \"markers\", \"name\": \"Ukraine\", \"orientation\": \"v\", \"showlegend\": true, \"type\": \"scatter\", \"x\": [437396.2944922998], \"xaxis\": \"x\", \"y\": [-19314.566085966148], \"yaxis\": \"y\"}, {\"hovertemplate\": \"color=United Kingdom<br>0=%{x}<br>1=%{y}<extra></extra>\", \"legendgroup\": \"United Kingdom\", \"marker\": {\"color\": \"#B6E880\", \"symbol\": \"circle\"}, \"mode\": \"markers\", \"name\": \"United Kingdom\", \"orientation\": \"v\", \"showlegend\": true, \"type\": \"scatter\", \"x\": [77124.97555033618], \"xaxis\": \"x\", \"y\": [5582.630766312243], \"yaxis\": \"y\"}],                        {\"annotations\": [{\"ax\": 0, \"ay\": 0, \"text\": \"Area\", \"x\": 165538.58283596745, \"xanchor\": \"center\", \"y\": 175.58017820068739, \"yanchor\": \"bottom\"}, {\"ax\": 0, \"ay\": 0, \"text\": \"GDP\", \"x\": -2024.020432749474, \"xanchor\": \"center\", \"y\": 14360.17770508688, \"yanchor\": \"bottom\"}, {\"ax\": 0, \"ay\": 0, \"text\": \"Inflation\", \"x\": 0.4482399477521623, \"xanchor\": \"center\", \"y\": -0.6326322206099326, \"yanchor\": \"bottom\"}, {\"ax\": 0, \"ay\": 0, \"text\": \"Life.expect\", \"x\": -0.07149501285919843, \"xanchor\": \"center\", \"y\": 2.247546894751649, \"yanchor\": \"bottom\"}, {\"ax\": 0, \"ay\": 0, \"text\": \"Military\", \"x\": 0.08172256432179005, \"xanchor\": \"center\", \"y\": -0.21868939853613711, \"yanchor\": \"bottom\"}, {\"ax\": 0, \"ay\": 0, \"text\": \"Pop.growth\", \"x\": -0.04488670971989802, \"xanchor\": \"center\", \"y\": 0.3791525935618104, \"yanchor\": \"bottom\"}, {\"ax\": 0, \"ay\": 0, \"text\": \"Unemployment\", \"x\": 0.1216743069866884, \"xanchor\": \"center\", \"y\": -2.476027258117278, \"yanchor\": \"bottom\"}], \"legend\": {\"title\": {\"text\": \"color\"}, \"tracegroupgap\": 0}, \"margin\": {\"t\": 60}, \"shapes\": [{\"type\": \"line\", \"x0\": 0, \"x1\": 165538.58283596745, \"y0\": 0, \"y1\": 175.58017820068739}, {\"type\": \"line\", \"x0\": 0, \"x1\": -2024.020432749474, \"y0\": 0, \"y1\": 14360.17770508688}, {\"type\": \"line\", \"x0\": 0, \"x1\": 0.4482399477521623, \"y0\": 0, \"y1\": -0.6326322206099326}, {\"type\": \"line\", \"x0\": 0, \"x1\": -0.07149501285919843, \"y0\": 0, \"y1\": 2.247546894751649}, {\"type\": \"line\", \"x0\": 0, \"x1\": 0.08172256432179005, \"y0\": 0, \"y1\": -0.21868939853613711}, {\"type\": \"line\", \"x0\": 0, \"x1\": -0.04488670971989802, \"y0\": 0, \"y1\": 0.3791525935618104}, {\"type\": \"line\", \"x0\": 0, \"x1\": 0.1216743069866884, \"y0\": 0, \"y1\": -2.476027258117278}], \"template\": {\"data\": {\"bar\": [{\"error_x\": {\"color\": \"#2a3f5f\"}, \"error_y\": {\"color\": \"#2a3f5f\"}, \"marker\": {\"line\": {\"color\": \"#E5ECF6\", \"width\": 0.5}}, \"type\": \"bar\"}], \"barpolar\": [{\"marker\": {\"line\": {\"color\": \"#E5ECF6\", \"width\": 0.5}}, \"type\": \"barpolar\"}], \"carpet\": [{\"aaxis\": {\"endlinecolor\": \"#2a3f5f\", \"gridcolor\": \"white\", \"linecolor\": \"white\", \"minorgridcolor\": \"white\", \"startlinecolor\": \"#2a3f5f\"}, \"baxis\": {\"endlinecolor\": \"#2a3f5f\", \"gridcolor\": \"white\", \"linecolor\": \"white\", \"minorgridcolor\": \"white\", \"startlinecolor\": \"#2a3f5f\"}, \"type\": \"carpet\"}], \"choropleth\": [{\"colorbar\": {\"outlinewidth\": 0, \"ticks\": \"\"}, \"type\": \"choropleth\"}], \"contour\": [{\"colorbar\": {\"outlinewidth\": 0, \"ticks\": \"\"}, \"colorscale\": [[0.0, \"#0d0887\"], [0.1111111111111111, \"#46039f\"], [0.2222222222222222, \"#7201a8\"], [0.3333333333333333, \"#9c179e\"], [0.4444444444444444, \"#bd3786\"], [0.5555555555555556, \"#d8576b\"], [0.6666666666666666, \"#ed7953\"], [0.7777777777777778, \"#fb9f3a\"], [0.8888888888888888, \"#fdca26\"], [1.0, \"#f0f921\"]], \"type\": \"contour\"}], \"contourcarpet\": [{\"colorbar\": {\"outlinewidth\": 0, \"ticks\": \"\"}, \"type\": \"contourcarpet\"}], \"heatmap\": [{\"colorbar\": {\"outlinewidth\": 0, \"ticks\": \"\"}, \"colorscale\": [[0.0, \"#0d0887\"], [0.1111111111111111, \"#46039f\"], [0.2222222222222222, \"#7201a8\"], [0.3333333333333333, \"#9c179e\"], [0.4444444444444444, \"#bd3786\"], [0.5555555555555556, \"#d8576b\"], [0.6666666666666666, \"#ed7953\"], [0.7777777777777778, \"#fb9f3a\"], [0.8888888888888888, \"#fdca26\"], [1.0, \"#f0f921\"]], \"type\": \"heatmap\"}], \"heatmapgl\": [{\"colorbar\": {\"outlinewidth\": 0, \"ticks\": \"\"}, \"colorscale\": [[0.0, \"#0d0887\"], [0.1111111111111111, \"#46039f\"], [0.2222222222222222, \"#7201a8\"], [0.3333333333333333, \"#9c179e\"], [0.4444444444444444, \"#bd3786\"], [0.5555555555555556, \"#d8576b\"], [0.6666666666666666, \"#ed7953\"], [0.7777777777777778, \"#fb9f3a\"], [0.8888888888888888, \"#fdca26\"], [1.0, \"#f0f921\"]], \"type\": \"heatmapgl\"}], \"histogram\": [{\"marker\": {\"colorbar\": {\"outlinewidth\": 0, \"ticks\": \"\"}}, \"type\": \"histogram\"}], \"histogram2d\": [{\"colorbar\": {\"outlinewidth\": 0, \"ticks\": \"\"}, \"colorscale\": [[0.0, \"#0d0887\"], [0.1111111111111111, \"#46039f\"], [0.2222222222222222, \"#7201a8\"], [0.3333333333333333, \"#9c179e\"], [0.4444444444444444, \"#bd3786\"], [0.5555555555555556, \"#d8576b\"], [0.6666666666666666, \"#ed7953\"], [0.7777777777777778, \"#fb9f3a\"], [0.8888888888888888, \"#fdca26\"], [1.0, \"#f0f921\"]], \"type\": \"histogram2d\"}], \"histogram2dcontour\": [{\"colorbar\": {\"outlinewidth\": 0, \"ticks\": \"\"}, \"colorscale\": [[0.0, \"#0d0887\"], [0.1111111111111111, \"#46039f\"], [0.2222222222222222, \"#7201a8\"], [0.3333333333333333, \"#9c179e\"], [0.4444444444444444, \"#bd3786\"], [0.5555555555555556, \"#d8576b\"], [0.6666666666666666, \"#ed7953\"], [0.7777777777777778, \"#fb9f3a\"], [0.8888888888888888, \"#fdca26\"], [1.0, \"#f0f921\"]], \"type\": \"histogram2dcontour\"}], \"mesh3d\": [{\"colorbar\": {\"outlinewidth\": 0, \"ticks\": \"\"}, \"type\": \"mesh3d\"}], \"parcoords\": [{\"line\": {\"colorbar\": {\"outlinewidth\": 0, \"ticks\": \"\"}}, \"type\": \"parcoords\"}], \"pie\": [{\"automargin\": true, \"type\": \"pie\"}], \"scatter\": [{\"marker\": {\"colorbar\": {\"outlinewidth\": 0, \"ticks\": \"\"}}, \"type\": \"scatter\"}], \"scatter3d\": [{\"line\": {\"colorbar\": {\"outlinewidth\": 0, \"ticks\": \"\"}}, \"marker\": {\"colorbar\": {\"outlinewidth\": 0, \"ticks\": \"\"}}, \"type\": \"scatter3d\"}], \"scattercarpet\": [{\"marker\": {\"colorbar\": {\"outlinewidth\": 0, \"ticks\": \"\"}}, \"type\": \"scattercarpet\"}], \"scattergeo\": [{\"marker\": {\"colorbar\": {\"outlinewidth\": 0, \"ticks\": \"\"}}, \"type\": \"scattergeo\"}], \"scattergl\": [{\"marker\": {\"colorbar\": {\"outlinewidth\": 0, \"ticks\": \"\"}}, \"type\": \"scattergl\"}], \"scattermapbox\": [{\"marker\": {\"colorbar\": {\"outlinewidth\": 0, \"ticks\": \"\"}}, \"type\": \"scattermapbox\"}], \"scatterpolar\": [{\"marker\": {\"colorbar\": {\"outlinewidth\": 0, \"ticks\": \"\"}}, \"type\": \"scatterpolar\"}], \"scatterpolargl\": [{\"marker\": {\"colorbar\": {\"outlinewidth\": 0, \"ticks\": \"\"}}, \"type\": \"scatterpolargl\"}], \"scatterternary\": [{\"marker\": {\"colorbar\": {\"outlinewidth\": 0, \"ticks\": \"\"}}, \"type\": \"scatterternary\"}], \"surface\": [{\"colorbar\": {\"outlinewidth\": 0, \"ticks\": \"\"}, \"colorscale\": [[0.0, \"#0d0887\"], [0.1111111111111111, \"#46039f\"], [0.2222222222222222, \"#7201a8\"], [0.3333333333333333, \"#9c179e\"], [0.4444444444444444, \"#bd3786\"], [0.5555555555555556, \"#d8576b\"], [0.6666666666666666, \"#ed7953\"], [0.7777777777777778, \"#fb9f3a\"], [0.8888888888888888, \"#fdca26\"], [1.0, \"#f0f921\"]], \"type\": \"surface\"}], \"table\": [{\"cells\": {\"fill\": {\"color\": \"#EBF0F8\"}, \"line\": {\"color\": \"white\"}}, \"header\": {\"fill\": {\"color\": \"#C8D4E3\"}, \"line\": {\"color\": \"white\"}}, \"type\": \"table\"}]}, \"layout\": {\"annotationdefaults\": {\"arrowcolor\": \"#2a3f5f\", \"arrowhead\": 0, \"arrowwidth\": 1}, \"coloraxis\": {\"colorbar\": {\"outlinewidth\": 0, \"ticks\": \"\"}}, \"colorscale\": {\"diverging\": [[0, \"#8e0152\"], [0.1, \"#c51b7d\"], [0.2, \"#de77ae\"], [0.3, \"#f1b6da\"], [0.4, \"#fde0ef\"], [0.5, \"#f7f7f7\"], [0.6, \"#e6f5d0\"], [0.7, \"#b8e186\"], [0.8, \"#7fbc41\"], [0.9, \"#4d9221\"], [1, \"#276419\"]], \"sequential\": [[0.0, \"#0d0887\"], [0.1111111111111111, \"#46039f\"], [0.2222222222222222, \"#7201a8\"], [0.3333333333333333, \"#9c179e\"], [0.4444444444444444, \"#bd3786\"], [0.5555555555555556, \"#d8576b\"], [0.6666666666666666, \"#ed7953\"], [0.7777777777777778, \"#fb9f3a\"], [0.8888888888888888, \"#fdca26\"], [1.0, \"#f0f921\"]], \"sequentialminus\": [[0.0, \"#0d0887\"], [0.1111111111111111, \"#46039f\"], [0.2222222222222222, \"#7201a8\"], [0.3333333333333333, \"#9c179e\"], [0.4444444444444444, \"#bd3786\"], [0.5555555555555556, \"#d8576b\"], [0.6666666666666666, \"#ed7953\"], [0.7777777777777778, \"#fb9f3a\"], [0.8888888888888888, \"#fdca26\"], [1.0, \"#f0f921\"]]}, \"colorway\": [\"#636efa\", \"#EF553B\", \"#00cc96\", \"#ab63fa\", \"#FFA15A\", \"#19d3f3\", \"#FF6692\", \"#B6E880\", \"#FF97FF\", \"#FECB52\"], \"font\": {\"color\": \"#2a3f5f\"}, \"geo\": {\"bgcolor\": \"white\", \"lakecolor\": \"white\", \"landcolor\": \"#E5ECF6\", \"showlakes\": true, \"showland\": true, \"subunitcolor\": \"white\"}, \"hoverlabel\": {\"align\": \"left\"}, \"hovermode\": \"closest\", \"mapbox\": {\"style\": \"light\"}, \"paper_bgcolor\": \"white\", \"plot_bgcolor\": \"#E5ECF6\", \"polar\": {\"angularaxis\": {\"gridcolor\": \"white\", \"linecolor\": \"white\", \"ticks\": \"\"}, \"bgcolor\": \"#E5ECF6\", \"radialaxis\": {\"gridcolor\": \"white\", \"linecolor\": \"white\", \"ticks\": \"\"}}, \"scene\": {\"xaxis\": {\"backgroundcolor\": \"#E5ECF6\", \"gridcolor\": \"white\", \"gridwidth\": 2, \"linecolor\": \"white\", \"showbackground\": true, \"ticks\": \"\", \"zerolinecolor\": \"white\"}, \"yaxis\": {\"backgroundcolor\": \"#E5ECF6\", \"gridcolor\": \"white\", \"gridwidth\": 2, \"linecolor\": \"white\", \"showbackground\": true, \"ticks\": \"\", \"zerolinecolor\": \"white\"}, \"zaxis\": {\"backgroundcolor\": \"#E5ECF6\", \"gridcolor\": \"white\", \"gridwidth\": 2, \"linecolor\": \"white\", \"showbackground\": true, \"ticks\": \"\", \"zerolinecolor\": \"white\"}}, \"shapedefaults\": {\"line\": {\"color\": \"#2a3f5f\"}}, \"ternary\": {\"aaxis\": {\"gridcolor\": \"white\", \"linecolor\": \"white\", \"ticks\": \"\"}, \"baxis\": {\"gridcolor\": \"white\", \"linecolor\": \"white\", \"ticks\": \"\"}, \"bgcolor\": \"#E5ECF6\", \"caxis\": {\"gridcolor\": \"white\", \"linecolor\": \"white\", \"ticks\": \"\"}}, \"title\": {\"x\": 0.05}, \"xaxis\": {\"automargin\": true, \"gridcolor\": \"white\", \"linecolor\": \"white\", \"ticks\": \"\", \"title\": {\"standoff\": 15}, \"zerolinecolor\": \"white\", \"zerolinewidth\": 2}, \"yaxis\": {\"automargin\": true, \"gridcolor\": \"white\", \"linecolor\": \"white\", \"ticks\": \"\", \"title\": {\"standoff\": 15}, \"zerolinecolor\": \"white\", \"zerolinewidth\": 2}}}, \"xaxis\": {\"anchor\": \"y\", \"domain\": [0.0, 1.0], \"title\": {\"text\": \"0\"}}, \"yaxis\": {\"anchor\": \"x\", \"domain\": [0.0, 1.0], \"title\": {\"text\": \"1\"}}},                        {\"responsive\": true}                    ).then(function(){\n",
       "                            \n",
       "var gd = document.getElementById('49d7d3b0-ea8e-40ee-b780-c417087b4336');\n",
       "var x = new MutationObserver(function (mutations, observer) {{\n",
       "        var display = window.getComputedStyle(gd).display;\n",
       "        if (!display || display === 'none') {{\n",
       "            console.log([gd, 'removed!']);\n",
       "            Plotly.purge(gd);\n",
       "            observer.disconnect();\n",
       "        }}\n",
       "}});\n",
       "\n",
       "// Listen for the removal of the full notebook cells\n",
       "var notebookContainer = gd.closest('#notebook-container');\n",
       "if (notebookContainer) {{\n",
       "    x.observe(notebookContainer, {childList: true});\n",
       "}}\n",
       "\n",
       "// Listen for the clearing of the current output cell\n",
       "var outputEl = gd.closest('.output');\n",
       "if (outputEl) {{\n",
       "    x.observe(outputEl, {childList: true});\n",
       "}}\n",
       "\n",
       "                        })                };                });            </script>        </div>"
      ]
     },
     "metadata": {},
     "output_type": "display_data"
    }
   ],
   "source": [
    "from sklearn.decomposition import PCA\n",
    "import plotly.express as px\n",
    "\n",
    "pca_ns = PCA()\n",
    "main_components_ns = pca_ns.fit_transform(X_non_standarized)\n",
    "loadings_ns = pca_ns.components_.T * np.sqrt(pca_ns.explained_variance_)\n",
    "fig = px.scatter(main_components_ns, x=0, y=1, color=data[\"Country\"])\n",
    "\n",
    "for i, feature in enumerate(features):\n",
    "    fig.add_shape(\n",
    "        type='line',\n",
    "        x0=0, y0=0,\n",
    "        x1=loadings_ns[i, 0],\n",
    "        y1=loadings_ns[i, 1]\n",
    "    )\n",
    "    fig.add_annotation(\n",
    "        x=loadings_ns[i, 0],\n",
    "        y=loadings_ns[i, 1],\n",
    "        ax=0, ay=0,\n",
    "        xanchor=\"center\",\n",
    "        yanchor=\"bottom\",\n",
    "        text=feature,\n",
    "    )\n",
    "fig.show()"
   ]
  },
  {
   "cell_type": "markdown",
   "metadata": {},
   "source": [
    "2) Ahora realizamos el mismo análisis pero sobre los datos estandarizados"
   ]
  },
  {
   "cell_type": "code",
   "execution_count": 39,
   "metadata": {},
   "outputs": [
    {
     "data": {
      "application/vnd.plotly.v1+json": {
       "config": {
        "plotlyServerURL": "https://plot.ly"
       },
       "data": [
        {
         "hovertemplate": "color=Austria<br>0=%{x}<br>1=%{y}<extra></extra>",
         "legendgroup": "Austria",
         "marker": {
          "color": "#636efa",
          "symbol": "circle"
         },
         "mode": "markers",
         "name": "Austria",
         "orientation": "v",
         "showlegend": true,
         "type": "scatter",
         "x": [
          -1.062255115785943
         ],
         "xaxis": "x",
         "y": [
          -1.2471654958757914
         ],
         "yaxis": "y"
        },
        {
         "hovertemplate": "color=Belgium<br>0=%{x}<br>1=%{y}<extra></extra>",
         "legendgroup": "Belgium",
         "marker": {
          "color": "#EF553B",
          "symbol": "circle"
         },
         "mode": "markers",
         "name": "Belgium",
         "orientation": "v",
         "showlegend": true,
         "type": "scatter",
         "x": [
          -0.6688210981928605
         ],
         "xaxis": "x",
         "y": [
          -0.4085439262187217
         ],
         "yaxis": "y"
        },
        {
         "hovertemplate": "color=Bulgaria<br>0=%{x}<br>1=%{y}<extra></extra>",
         "legendgroup": "Bulgaria",
         "marker": {
          "color": "#00cc96",
          "symbol": "circle"
         },
         "mode": "markers",
         "name": "Bulgaria",
         "orientation": "v",
         "showlegend": true,
         "type": "scatter",
         "x": [
          2.5628501209089847
         ],
         "xaxis": "x",
         "y": [
          0.26477926438500204
         ],
         "yaxis": "y"
        },
        {
         "hovertemplate": "color=Croatia<br>0=%{x}<br>1=%{y}<extra></extra>",
         "legendgroup": "Croatia",
         "marker": {
          "color": "#ab63fa",
          "symbol": "circle"
         },
         "mode": "markers",
         "name": "Croatia",
         "orientation": "v",
         "showlegend": true,
         "type": "scatter",
         "x": [
          1.2472614091083405
         ],
         "xaxis": "x",
         "y": [
          1.867164076354558
         ],
         "yaxis": "y"
        },
        {
         "hovertemplate": "color=Czech Republic<br>0=%{x}<br>1=%{y}<extra></extra>",
         "legendgroup": "Czech Republic",
         "marker": {
          "color": "#FFA15A",
          "symbol": "circle"
         },
         "mode": "markers",
         "name": "Czech Republic",
         "orientation": "v",
         "showlegend": true,
         "type": "scatter",
         "x": [
          -0.1641964633307718
         ],
         "xaxis": "x",
         "y": [
          -0.129565922355033
         ],
         "yaxis": "y"
        },
        {
         "hovertemplate": "color=Denmark<br>0=%{x}<br>1=%{y}<extra></extra>",
         "legendgroup": "Denmark",
         "marker": {
          "color": "#19d3f3",
          "symbol": "circle"
         },
         "mode": "markers",
         "name": "Denmark",
         "orientation": "v",
         "showlegend": true,
         "type": "scatter",
         "x": [
          -0.9379787423315349
         ],
         "xaxis": "x",
         "y": [
          -0.402246646351694
         ],
         "yaxis": "y"
        },
        {
         "hovertemplate": "color=Estonia<br>0=%{x}<br>1=%{y}<extra></extra>",
         "legendgroup": "Estonia",
         "marker": {
          "color": "#FF6692",
          "symbol": "circle"
         },
         "mode": "markers",
         "name": "Estonia",
         "orientation": "v",
         "showlegend": true,
         "type": "scatter",
         "x": [
          2.442907488422047
         ],
         "xaxis": "x",
         "y": [
          -0.08423318943499299
         ],
         "yaxis": "y"
        },
        {
         "hovertemplate": "color=Finland<br>0=%{x}<br>1=%{y}<extra></extra>",
         "legendgroup": "Finland",
         "marker": {
          "color": "#B6E880",
          "symbol": "circle"
         },
         "mode": "markers",
         "name": "Finland",
         "orientation": "v",
         "showlegend": true,
         "type": "scatter",
         "x": [
          -0.20676891484377607
         ],
         "xaxis": "x",
         "y": [
          -0.0331097749317377
         ],
         "yaxis": "y"
        },
        {
         "hovertemplate": "color=Germany<br>0=%{x}<br>1=%{y}<extra></extra>",
         "legendgroup": "Germany",
         "marker": {
          "color": "#FF97FF",
          "symbol": "circle"
         },
         "mode": "markers",
         "name": "Germany",
         "orientation": "v",
         "showlegend": true,
         "type": "scatter",
         "x": [
          -0.58171901908668
         ],
         "xaxis": "x",
         "y": [
          -0.46332976066201575
         ],
         "yaxis": "y"
        },
        {
         "hovertemplate": "color=Greece<br>0=%{x}<br>1=%{y}<extra></extra>",
         "legendgroup": "Greece",
         "marker": {
          "color": "#FECB52",
          "symbol": "circle"
         },
         "mode": "markers",
         "name": "Greece",
         "orientation": "v",
         "showlegend": true,
         "type": "scatter",
         "x": [
          0.9824439585763942
         ],
         "xaxis": "x",
         "y": [
          3.34545942908179
         ],
         "yaxis": "y"
        },
        {
         "hovertemplate": "color=Hungary<br>0=%{x}<br>1=%{y}<extra></extra>",
         "legendgroup": "Hungary",
         "marker": {
          "color": "#636efa",
          "symbol": "circle"
         },
         "mode": "markers",
         "name": "Hungary",
         "orientation": "v",
         "showlegend": true,
         "type": "scatter",
         "x": [
          1.3717269121041213
         ],
         "xaxis": "x",
         "y": [
          -0.03361423403331933
         ],
         "yaxis": "y"
        },
        {
         "hovertemplate": "color=Iceland<br>0=%{x}<br>1=%{y}<extra></extra>",
         "legendgroup": "Iceland",
         "marker": {
          "color": "#EF553B",
          "symbol": "circle"
         },
         "mode": "markers",
         "name": "Iceland",
         "orientation": "v",
         "showlegend": true,
         "type": "scatter",
         "x": [
          -1.5551818748850332
         ],
         "xaxis": "x",
         "y": [
          -1.4506439598151144
         ],
         "yaxis": "y"
        },
        {
         "hovertemplate": "color=Ireland<br>0=%{x}<br>1=%{y}<extra></extra>",
         "legendgroup": "Ireland",
         "marker": {
          "color": "#00cc96",
          "symbol": "circle"
         },
         "mode": "markers",
         "name": "Ireland",
         "orientation": "v",
         "showlegend": true,
         "type": "scatter",
         "x": [
          -1.7763218310144777
         ],
         "xaxis": "x",
         "y": [
          0.51240491904877
         ],
         "yaxis": "y"
        },
        {
         "hovertemplate": "color=Italy<br>0=%{x}<br>1=%{y}<extra></extra>",
         "legendgroup": "Italy",
         "marker": {
          "color": "#ab63fa",
          "symbol": "circle"
         },
         "mode": "markers",
         "name": "Italy",
         "orientation": "v",
         "showlegend": true,
         "type": "scatter",
         "x": [
          -0.8378492983766787
         ],
         "xaxis": "x",
         "y": [
          0.3218922800165983
         ],
         "yaxis": "y"
        },
        {
         "hovertemplate": "color=Latvia<br>0=%{x}<br>1=%{y}<extra></extra>",
         "legendgroup": "Latvia",
         "marker": {
          "color": "#FFA15A",
          "symbol": "circle"
         },
         "mode": "markers",
         "name": "Latvia",
         "orientation": "v",
         "showlegend": true,
         "type": "scatter",
         "x": [
          2.264505385059275
         ],
         "xaxis": "x",
         "y": [
          -0.6631789575720766
         ],
         "yaxis": "y"
        },
        {
         "hovertemplate": "color=Lithuania<br>0=%{x}<br>1=%{y}<extra></extra>",
         "legendgroup": "Lithuania",
         "marker": {
          "color": "#19d3f3",
          "symbol": "circle"
         },
         "mode": "markers",
         "name": "Lithuania",
         "orientation": "v",
         "showlegend": true,
         "type": "scatter",
         "x": [
          1.5025282839007286
         ],
         "xaxis": "x",
         "y": [
          -0.19148317001989504
         ],
         "yaxis": "y"
        },
        {
         "hovertemplate": "color=Luxembourg<br>0=%{x}<br>1=%{y}<extra></extra>",
         "legendgroup": "Luxembourg",
         "marker": {
          "color": "#FF6692",
          "symbol": "circle"
         },
         "mode": "markers",
         "name": "Luxembourg",
         "orientation": "v",
         "showlegend": true,
         "type": "scatter",
         "x": [
          -3.415755319088453
         ],
         "xaxis": "x",
         "y": [
          -1.0568928305954333
         ],
         "yaxis": "y"
        },
        {
         "hovertemplate": "color=Netherlands<br>0=%{x}<br>1=%{y}<extra></extra>",
         "legendgroup": "Netherlands",
         "marker": {
          "color": "#B6E880",
          "symbol": "circle"
         },
         "mode": "markers",
         "name": "Netherlands",
         "orientation": "v",
         "showlegend": true,
         "type": "scatter",
         "x": [
          -1.8068965738969471
         ],
         "xaxis": "x",
         "y": [
          -0.05619809574085793
         ],
         "yaxis": "y"
        },
        {
         "hovertemplate": "color=Norway<br>0=%{x}<br>1=%{y}<extra></extra>",
         "legendgroup": "Norway",
         "marker": {
          "color": "#FF97FF",
          "symbol": "circle"
         },
         "mode": "markers",
         "name": "Norway",
         "orientation": "v",
         "showlegend": true,
         "type": "scatter",
         "x": [
          -2.0685525744091082
         ],
         "xaxis": "x",
         "y": [
          -0.1413688809854263
         ],
         "yaxis": "y"
        },
        {
         "hovertemplate": "color=Poland<br>0=%{x}<br>1=%{y}<extra></extra>",
         "legendgroup": "Poland",
         "marker": {
          "color": "#FECB52",
          "symbol": "circle"
         },
         "mode": "markers",
         "name": "Poland",
         "orientation": "v",
         "showlegend": true,
         "type": "scatter",
         "x": [
          1.4452532080639944
         ],
         "xaxis": "x",
         "y": [
          0.07166992512836605
         ],
         "yaxis": "y"
        },
        {
         "hovertemplate": "color=Portugal<br>0=%{x}<br>1=%{y}<extra></extra>",
         "legendgroup": "Portugal",
         "marker": {
          "color": "#636efa",
          "symbol": "circle"
         },
         "mode": "markers",
         "name": "Portugal",
         "orientation": "v",
         "showlegend": true,
         "type": "scatter",
         "x": [
          0.5170061914939632
         ],
         "xaxis": "x",
         "y": [
          1.0161279484645616
         ],
         "yaxis": "y"
        },
        {
         "hovertemplate": "color=Slovakia<br>0=%{x}<br>1=%{y}<extra></extra>",
         "legendgroup": "Slovakia",
         "marker": {
          "color": "#EF553B",
          "symbol": "circle"
         },
         "mode": "markers",
         "name": "Slovakia",
         "orientation": "v",
         "showlegend": true,
         "type": "scatter",
         "x": [
          0.7688573205118819
         ],
         "xaxis": "x",
         "y": [
          -0.16915574264761984
         ],
         "yaxis": "y"
        },
        {
         "hovertemplate": "color=Slovenia<br>0=%{x}<br>1=%{y}<extra></extra>",
         "legendgroup": "Slovenia",
         "marker": {
          "color": "#00cc96",
          "symbol": "circle"
         },
         "mode": "markers",
         "name": "Slovenia",
         "orientation": "v",
         "showlegend": true,
         "type": "scatter",
         "x": [
          0.06632627793932264
         ],
         "xaxis": "x",
         "y": [
          0.7832984113061622
         ],
         "yaxis": "y"
        },
        {
         "hovertemplate": "color=Spain<br>0=%{x}<br>1=%{y}<extra></extra>",
         "legendgroup": "Spain",
         "marker": {
          "color": "#ab63fa",
          "symbol": "circle"
         },
         "mode": "markers",
         "name": "Spain",
         "orientation": "v",
         "showlegend": true,
         "type": "scatter",
         "x": [
          -0.16081595915779962
         ],
         "xaxis": "x",
         "y": [
          1.1313063517339834
         ],
         "yaxis": "y"
        },
        {
         "hovertemplate": "color=Sweden<br>0=%{x}<br>1=%{y}<extra></extra>",
         "legendgroup": "Sweden",
         "marker": {
          "color": "#FFA15A",
          "symbol": "circle"
         },
         "mode": "markers",
         "name": "Sweden",
         "orientation": "v",
         "showlegend": true,
         "type": "scatter",
         "x": [
          -0.8691561598899682
         ],
         "xaxis": "x",
         "y": [
          -0.39562101973956637
         ],
         "yaxis": "y"
        },
        {
         "hovertemplate": "color=Switzerland<br>0=%{x}<br>1=%{y}<extra></extra>",
         "legendgroup": "Switzerland",
         "marker": {
          "color": "#19d3f3",
          "symbol": "circle"
         },
         "mode": "markers",
         "name": "Switzerland",
         "orientation": "v",
         "showlegend": true,
         "type": "scatter",
         "x": [
          -3.222453607460654
         ],
         "xaxis": "x",
         "y": [
          -0.10627652478206166
         ],
         "yaxis": "y"
        },
        {
         "hovertemplate": "color=Ukraine<br>0=%{x}<br>1=%{y}<extra></extra>",
         "legendgroup": "Ukraine",
         "marker": {
          "color": "#FF6692",
          "symbol": "circle"
         },
         "mode": "markers",
         "name": "Ukraine",
         "orientation": "v",
         "showlegend": true,
         "type": "scatter",
         "x": [
          4.497733954105657
         ],
         "xaxis": "x",
         "y": [
          -2.7780640826948306
         ],
         "yaxis": "y"
        },
        {
         "hovertemplate": "color=United Kingdom<br>0=%{x}<br>1=%{y}<extra></extra>",
         "legendgroup": "United Kingdom",
         "marker": {
          "color": "#B6E880",
          "symbol": "circle"
         },
         "mode": "markers",
         "name": "United Kingdom",
         "orientation": "v",
         "showlegend": true,
         "type": "scatter",
         "x": [
          -0.33467795844402276
         ],
         "xaxis": "x",
         "y": [
          0.49658960893639703
         ],
         "yaxis": "y"
        }
       ],
       "layout": {
        "annotations": [
         {
          "ax": 0,
          "ay": 0,
          "text": "Area",
          "x": 0.22432739496455595,
          "xanchor": "center",
          "y": -0.18835324087674876,
          "yanchor": "bottom"
         },
         {
          "ax": 0,
          "ay": 0,
          "text": "GDP",
          "x": -0.899124426498063,
          "xanchor": "center",
          "y": -0.1417938014336391,
          "yanchor": "bottom"
         },
         {
          "ax": 0,
          "ay": 0,
          "text": "Inflation",
          "x": 0.7302819671353878,
          "xanchor": "center",
          "y": -0.4027607620241775,
          "yanchor": "bottom"
         },
         {
          "ax": 0,
          "ay": 0,
          "text": "Life.expect",
          "x": -0.8674487909171308,
          "xanchor": "center",
          "y": 0.28900124917942405,
          "yanchor": "bottom"
         },
         {
          "ax": 0,
          "ay": 0,
          "text": "Military",
          "x": 0.33792960890839935,
          "xanchor": "center",
          "y": 0.7172159586798298,
          "yanchor": "bottom"
         },
         {
          "ax": 0,
          "ay": 0,
          "text": "Pop.growth",
          "x": -0.8545687886570699,
          "xanchor": "center",
          "y": 0.0900209411608919,
          "yanchor": "bottom"
         },
         {
          "ax": 0,
          "ay": 0,
          "text": "Unemployment",
          "x": 0.4880110379325661,
          "xanchor": "center",
          "y": 0.6027441647271682,
          "yanchor": "bottom"
         }
        ],
        "legend": {
         "title": {
          "text": "color"
         },
         "tracegroupgap": 0
        },
        "margin": {
         "t": 60
        },
        "shapes": [
         {
          "type": "line",
          "x0": 0,
          "x1": 0.22432739496455595,
          "y0": 0,
          "y1": -0.18835324087674876
         },
         {
          "type": "line",
          "x0": 0,
          "x1": -0.899124426498063,
          "y0": 0,
          "y1": -0.1417938014336391
         },
         {
          "type": "line",
          "x0": 0,
          "x1": 0.7302819671353878,
          "y0": 0,
          "y1": -0.4027607620241775
         },
         {
          "type": "line",
          "x0": 0,
          "x1": -0.8674487909171308,
          "y0": 0,
          "y1": 0.28900124917942405
         },
         {
          "type": "line",
          "x0": 0,
          "x1": 0.33792960890839935,
          "y0": 0,
          "y1": 0.7172159586798298
         },
         {
          "type": "line",
          "x0": 0,
          "x1": -0.8545687886570699,
          "y0": 0,
          "y1": 0.0900209411608919
         },
         {
          "type": "line",
          "x0": 0,
          "x1": 0.4880110379325661,
          "y0": 0,
          "y1": 0.6027441647271682
         }
        ],
        "template": {
         "data": {
          "bar": [
           {
            "error_x": {
             "color": "#2a3f5f"
            },
            "error_y": {
             "color": "#2a3f5f"
            },
            "marker": {
             "line": {
              "color": "#E5ECF6",
              "width": 0.5
             }
            },
            "type": "bar"
           }
          ],
          "barpolar": [
           {
            "marker": {
             "line": {
              "color": "#E5ECF6",
              "width": 0.5
             }
            },
            "type": "barpolar"
           }
          ],
          "carpet": [
           {
            "aaxis": {
             "endlinecolor": "#2a3f5f",
             "gridcolor": "white",
             "linecolor": "white",
             "minorgridcolor": "white",
             "startlinecolor": "#2a3f5f"
            },
            "baxis": {
             "endlinecolor": "#2a3f5f",
             "gridcolor": "white",
             "linecolor": "white",
             "minorgridcolor": "white",
             "startlinecolor": "#2a3f5f"
            },
            "type": "carpet"
           }
          ],
          "choropleth": [
           {
            "colorbar": {
             "outlinewidth": 0,
             "ticks": ""
            },
            "type": "choropleth"
           }
          ],
          "contour": [
           {
            "colorbar": {
             "outlinewidth": 0,
             "ticks": ""
            },
            "colorscale": [
             [
              0,
              "#0d0887"
             ],
             [
              0.1111111111111111,
              "#46039f"
             ],
             [
              0.2222222222222222,
              "#7201a8"
             ],
             [
              0.3333333333333333,
              "#9c179e"
             ],
             [
              0.4444444444444444,
              "#bd3786"
             ],
             [
              0.5555555555555556,
              "#d8576b"
             ],
             [
              0.6666666666666666,
              "#ed7953"
             ],
             [
              0.7777777777777778,
              "#fb9f3a"
             ],
             [
              0.8888888888888888,
              "#fdca26"
             ],
             [
              1,
              "#f0f921"
             ]
            ],
            "type": "contour"
           }
          ],
          "contourcarpet": [
           {
            "colorbar": {
             "outlinewidth": 0,
             "ticks": ""
            },
            "type": "contourcarpet"
           }
          ],
          "heatmap": [
           {
            "colorbar": {
             "outlinewidth": 0,
             "ticks": ""
            },
            "colorscale": [
             [
              0,
              "#0d0887"
             ],
             [
              0.1111111111111111,
              "#46039f"
             ],
             [
              0.2222222222222222,
              "#7201a8"
             ],
             [
              0.3333333333333333,
              "#9c179e"
             ],
             [
              0.4444444444444444,
              "#bd3786"
             ],
             [
              0.5555555555555556,
              "#d8576b"
             ],
             [
              0.6666666666666666,
              "#ed7953"
             ],
             [
              0.7777777777777778,
              "#fb9f3a"
             ],
             [
              0.8888888888888888,
              "#fdca26"
             ],
             [
              1,
              "#f0f921"
             ]
            ],
            "type": "heatmap"
           }
          ],
          "heatmapgl": [
           {
            "colorbar": {
             "outlinewidth": 0,
             "ticks": ""
            },
            "colorscale": [
             [
              0,
              "#0d0887"
             ],
             [
              0.1111111111111111,
              "#46039f"
             ],
             [
              0.2222222222222222,
              "#7201a8"
             ],
             [
              0.3333333333333333,
              "#9c179e"
             ],
             [
              0.4444444444444444,
              "#bd3786"
             ],
             [
              0.5555555555555556,
              "#d8576b"
             ],
             [
              0.6666666666666666,
              "#ed7953"
             ],
             [
              0.7777777777777778,
              "#fb9f3a"
             ],
             [
              0.8888888888888888,
              "#fdca26"
             ],
             [
              1,
              "#f0f921"
             ]
            ],
            "type": "heatmapgl"
           }
          ],
          "histogram": [
           {
            "marker": {
             "colorbar": {
              "outlinewidth": 0,
              "ticks": ""
             }
            },
            "type": "histogram"
           }
          ],
          "histogram2d": [
           {
            "colorbar": {
             "outlinewidth": 0,
             "ticks": ""
            },
            "colorscale": [
             [
              0,
              "#0d0887"
             ],
             [
              0.1111111111111111,
              "#46039f"
             ],
             [
              0.2222222222222222,
              "#7201a8"
             ],
             [
              0.3333333333333333,
              "#9c179e"
             ],
             [
              0.4444444444444444,
              "#bd3786"
             ],
             [
              0.5555555555555556,
              "#d8576b"
             ],
             [
              0.6666666666666666,
              "#ed7953"
             ],
             [
              0.7777777777777778,
              "#fb9f3a"
             ],
             [
              0.8888888888888888,
              "#fdca26"
             ],
             [
              1,
              "#f0f921"
             ]
            ],
            "type": "histogram2d"
           }
          ],
          "histogram2dcontour": [
           {
            "colorbar": {
             "outlinewidth": 0,
             "ticks": ""
            },
            "colorscale": [
             [
              0,
              "#0d0887"
             ],
             [
              0.1111111111111111,
              "#46039f"
             ],
             [
              0.2222222222222222,
              "#7201a8"
             ],
             [
              0.3333333333333333,
              "#9c179e"
             ],
             [
              0.4444444444444444,
              "#bd3786"
             ],
             [
              0.5555555555555556,
              "#d8576b"
             ],
             [
              0.6666666666666666,
              "#ed7953"
             ],
             [
              0.7777777777777778,
              "#fb9f3a"
             ],
             [
              0.8888888888888888,
              "#fdca26"
             ],
             [
              1,
              "#f0f921"
             ]
            ],
            "type": "histogram2dcontour"
           }
          ],
          "mesh3d": [
           {
            "colorbar": {
             "outlinewidth": 0,
             "ticks": ""
            },
            "type": "mesh3d"
           }
          ],
          "parcoords": [
           {
            "line": {
             "colorbar": {
              "outlinewidth": 0,
              "ticks": ""
             }
            },
            "type": "parcoords"
           }
          ],
          "pie": [
           {
            "automargin": true,
            "type": "pie"
           }
          ],
          "scatter": [
           {
            "marker": {
             "colorbar": {
              "outlinewidth": 0,
              "ticks": ""
             }
            },
            "type": "scatter"
           }
          ],
          "scatter3d": [
           {
            "line": {
             "colorbar": {
              "outlinewidth": 0,
              "ticks": ""
             }
            },
            "marker": {
             "colorbar": {
              "outlinewidth": 0,
              "ticks": ""
             }
            },
            "type": "scatter3d"
           }
          ],
          "scattercarpet": [
           {
            "marker": {
             "colorbar": {
              "outlinewidth": 0,
              "ticks": ""
             }
            },
            "type": "scattercarpet"
           }
          ],
          "scattergeo": [
           {
            "marker": {
             "colorbar": {
              "outlinewidth": 0,
              "ticks": ""
             }
            },
            "type": "scattergeo"
           }
          ],
          "scattergl": [
           {
            "marker": {
             "colorbar": {
              "outlinewidth": 0,
              "ticks": ""
             }
            },
            "type": "scattergl"
           }
          ],
          "scattermapbox": [
           {
            "marker": {
             "colorbar": {
              "outlinewidth": 0,
              "ticks": ""
             }
            },
            "type": "scattermapbox"
           }
          ],
          "scatterpolar": [
           {
            "marker": {
             "colorbar": {
              "outlinewidth": 0,
              "ticks": ""
             }
            },
            "type": "scatterpolar"
           }
          ],
          "scatterpolargl": [
           {
            "marker": {
             "colorbar": {
              "outlinewidth": 0,
              "ticks": ""
             }
            },
            "type": "scatterpolargl"
           }
          ],
          "scatterternary": [
           {
            "marker": {
             "colorbar": {
              "outlinewidth": 0,
              "ticks": ""
             }
            },
            "type": "scatterternary"
           }
          ],
          "surface": [
           {
            "colorbar": {
             "outlinewidth": 0,
             "ticks": ""
            },
            "colorscale": [
             [
              0,
              "#0d0887"
             ],
             [
              0.1111111111111111,
              "#46039f"
             ],
             [
              0.2222222222222222,
              "#7201a8"
             ],
             [
              0.3333333333333333,
              "#9c179e"
             ],
             [
              0.4444444444444444,
              "#bd3786"
             ],
             [
              0.5555555555555556,
              "#d8576b"
             ],
             [
              0.6666666666666666,
              "#ed7953"
             ],
             [
              0.7777777777777778,
              "#fb9f3a"
             ],
             [
              0.8888888888888888,
              "#fdca26"
             ],
             [
              1,
              "#f0f921"
             ]
            ],
            "type": "surface"
           }
          ],
          "table": [
           {
            "cells": {
             "fill": {
              "color": "#EBF0F8"
             },
             "line": {
              "color": "white"
             }
            },
            "header": {
             "fill": {
              "color": "#C8D4E3"
             },
             "line": {
              "color": "white"
             }
            },
            "type": "table"
           }
          ]
         },
         "layout": {
          "annotationdefaults": {
           "arrowcolor": "#2a3f5f",
           "arrowhead": 0,
           "arrowwidth": 1
          },
          "coloraxis": {
           "colorbar": {
            "outlinewidth": 0,
            "ticks": ""
           }
          },
          "colorscale": {
           "diverging": [
            [
             0,
             "#8e0152"
            ],
            [
             0.1,
             "#c51b7d"
            ],
            [
             0.2,
             "#de77ae"
            ],
            [
             0.3,
             "#f1b6da"
            ],
            [
             0.4,
             "#fde0ef"
            ],
            [
             0.5,
             "#f7f7f7"
            ],
            [
             0.6,
             "#e6f5d0"
            ],
            [
             0.7,
             "#b8e186"
            ],
            [
             0.8,
             "#7fbc41"
            ],
            [
             0.9,
             "#4d9221"
            ],
            [
             1,
             "#276419"
            ]
           ],
           "sequential": [
            [
             0,
             "#0d0887"
            ],
            [
             0.1111111111111111,
             "#46039f"
            ],
            [
             0.2222222222222222,
             "#7201a8"
            ],
            [
             0.3333333333333333,
             "#9c179e"
            ],
            [
             0.4444444444444444,
             "#bd3786"
            ],
            [
             0.5555555555555556,
             "#d8576b"
            ],
            [
             0.6666666666666666,
             "#ed7953"
            ],
            [
             0.7777777777777778,
             "#fb9f3a"
            ],
            [
             0.8888888888888888,
             "#fdca26"
            ],
            [
             1,
             "#f0f921"
            ]
           ],
           "sequentialminus": [
            [
             0,
             "#0d0887"
            ],
            [
             0.1111111111111111,
             "#46039f"
            ],
            [
             0.2222222222222222,
             "#7201a8"
            ],
            [
             0.3333333333333333,
             "#9c179e"
            ],
            [
             0.4444444444444444,
             "#bd3786"
            ],
            [
             0.5555555555555556,
             "#d8576b"
            ],
            [
             0.6666666666666666,
             "#ed7953"
            ],
            [
             0.7777777777777778,
             "#fb9f3a"
            ],
            [
             0.8888888888888888,
             "#fdca26"
            ],
            [
             1,
             "#f0f921"
            ]
           ]
          },
          "colorway": [
           "#636efa",
           "#EF553B",
           "#00cc96",
           "#ab63fa",
           "#FFA15A",
           "#19d3f3",
           "#FF6692",
           "#B6E880",
           "#FF97FF",
           "#FECB52"
          ],
          "font": {
           "color": "#2a3f5f"
          },
          "geo": {
           "bgcolor": "white",
           "lakecolor": "white",
           "landcolor": "#E5ECF6",
           "showlakes": true,
           "showland": true,
           "subunitcolor": "white"
          },
          "hoverlabel": {
           "align": "left"
          },
          "hovermode": "closest",
          "mapbox": {
           "style": "light"
          },
          "paper_bgcolor": "white",
          "plot_bgcolor": "#E5ECF6",
          "polar": {
           "angularaxis": {
            "gridcolor": "white",
            "linecolor": "white",
            "ticks": ""
           },
           "bgcolor": "#E5ECF6",
           "radialaxis": {
            "gridcolor": "white",
            "linecolor": "white",
            "ticks": ""
           }
          },
          "scene": {
           "xaxis": {
            "backgroundcolor": "#E5ECF6",
            "gridcolor": "white",
            "gridwidth": 2,
            "linecolor": "white",
            "showbackground": true,
            "ticks": "",
            "zerolinecolor": "white"
           },
           "yaxis": {
            "backgroundcolor": "#E5ECF6",
            "gridcolor": "white",
            "gridwidth": 2,
            "linecolor": "white",
            "showbackground": true,
            "ticks": "",
            "zerolinecolor": "white"
           },
           "zaxis": {
            "backgroundcolor": "#E5ECF6",
            "gridcolor": "white",
            "gridwidth": 2,
            "linecolor": "white",
            "showbackground": true,
            "ticks": "",
            "zerolinecolor": "white"
           }
          },
          "shapedefaults": {
           "line": {
            "color": "#2a3f5f"
           }
          },
          "ternary": {
           "aaxis": {
            "gridcolor": "white",
            "linecolor": "white",
            "ticks": ""
           },
           "baxis": {
            "gridcolor": "white",
            "linecolor": "white",
            "ticks": ""
           },
           "bgcolor": "#E5ECF6",
           "caxis": {
            "gridcolor": "white",
            "linecolor": "white",
            "ticks": ""
           }
          },
          "title": {
           "x": 0.05
          },
          "xaxis": {
           "automargin": true,
           "gridcolor": "white",
           "linecolor": "white",
           "ticks": "",
           "title": {
            "standoff": 15
           },
           "zerolinecolor": "white",
           "zerolinewidth": 2
          },
          "yaxis": {
           "automargin": true,
           "gridcolor": "white",
           "linecolor": "white",
           "ticks": "",
           "title": {
            "standoff": 15
           },
           "zerolinecolor": "white",
           "zerolinewidth": 2
          }
         }
        },
        "xaxis": {
         "anchor": "y",
         "domain": [
          0,
          1
         ],
         "title": {
          "text": "0"
         }
        },
        "yaxis": {
         "anchor": "x",
         "domain": [
          0,
          1
         ],
         "title": {
          "text": "1"
         }
        }
       }
      },
      "text/html": [
       "<div>                            <div id=\"258a6aa9-e9b4-444d-9290-51be5582e7fc\" class=\"plotly-graph-div\" style=\"height:525px; width:100%;\"></div>            <script type=\"text/javascript\">                require([\"plotly\"], function(Plotly) {                    window.PLOTLYENV=window.PLOTLYENV || {};                                    if (document.getElementById(\"258a6aa9-e9b4-444d-9290-51be5582e7fc\")) {                    Plotly.newPlot(                        \"258a6aa9-e9b4-444d-9290-51be5582e7fc\",                        [{\"hovertemplate\": \"color=Austria<br>0=%{x}<br>1=%{y}<extra></extra>\", \"legendgroup\": \"Austria\", \"marker\": {\"color\": \"#636efa\", \"symbol\": \"circle\"}, \"mode\": \"markers\", \"name\": \"Austria\", \"orientation\": \"v\", \"showlegend\": true, \"type\": \"scatter\", \"x\": [-1.062255115785943], \"xaxis\": \"x\", \"y\": [-1.2471654958757914], \"yaxis\": \"y\"}, {\"hovertemplate\": \"color=Belgium<br>0=%{x}<br>1=%{y}<extra></extra>\", \"legendgroup\": \"Belgium\", \"marker\": {\"color\": \"#EF553B\", \"symbol\": \"circle\"}, \"mode\": \"markers\", \"name\": \"Belgium\", \"orientation\": \"v\", \"showlegend\": true, \"type\": \"scatter\", \"x\": [-0.6688210981928605], \"xaxis\": \"x\", \"y\": [-0.4085439262187217], \"yaxis\": \"y\"}, {\"hovertemplate\": \"color=Bulgaria<br>0=%{x}<br>1=%{y}<extra></extra>\", \"legendgroup\": \"Bulgaria\", \"marker\": {\"color\": \"#00cc96\", \"symbol\": \"circle\"}, \"mode\": \"markers\", \"name\": \"Bulgaria\", \"orientation\": \"v\", \"showlegend\": true, \"type\": \"scatter\", \"x\": [2.5628501209089847], \"xaxis\": \"x\", \"y\": [0.26477926438500204], \"yaxis\": \"y\"}, {\"hovertemplate\": \"color=Croatia<br>0=%{x}<br>1=%{y}<extra></extra>\", \"legendgroup\": \"Croatia\", \"marker\": {\"color\": \"#ab63fa\", \"symbol\": \"circle\"}, \"mode\": \"markers\", \"name\": \"Croatia\", \"orientation\": \"v\", \"showlegend\": true, \"type\": \"scatter\", \"x\": [1.2472614091083405], \"xaxis\": \"x\", \"y\": [1.867164076354558], \"yaxis\": \"y\"}, {\"hovertemplate\": \"color=Czech Republic<br>0=%{x}<br>1=%{y}<extra></extra>\", \"legendgroup\": \"Czech Republic\", \"marker\": {\"color\": \"#FFA15A\", \"symbol\": \"circle\"}, \"mode\": \"markers\", \"name\": \"Czech Republic\", \"orientation\": \"v\", \"showlegend\": true, \"type\": \"scatter\", \"x\": [-0.1641964633307718], \"xaxis\": \"x\", \"y\": [-0.129565922355033], \"yaxis\": \"y\"}, {\"hovertemplate\": \"color=Denmark<br>0=%{x}<br>1=%{y}<extra></extra>\", \"legendgroup\": \"Denmark\", \"marker\": {\"color\": \"#19d3f3\", \"symbol\": \"circle\"}, \"mode\": \"markers\", \"name\": \"Denmark\", \"orientation\": \"v\", \"showlegend\": true, \"type\": \"scatter\", \"x\": [-0.9379787423315349], \"xaxis\": \"x\", \"y\": [-0.402246646351694], \"yaxis\": \"y\"}, {\"hovertemplate\": \"color=Estonia<br>0=%{x}<br>1=%{y}<extra></extra>\", \"legendgroup\": \"Estonia\", \"marker\": {\"color\": \"#FF6692\", \"symbol\": \"circle\"}, \"mode\": \"markers\", \"name\": \"Estonia\", \"orientation\": \"v\", \"showlegend\": true, \"type\": \"scatter\", \"x\": [2.442907488422047], \"xaxis\": \"x\", \"y\": [-0.08423318943499299], \"yaxis\": \"y\"}, {\"hovertemplate\": \"color=Finland<br>0=%{x}<br>1=%{y}<extra></extra>\", \"legendgroup\": \"Finland\", \"marker\": {\"color\": \"#B6E880\", \"symbol\": \"circle\"}, \"mode\": \"markers\", \"name\": \"Finland\", \"orientation\": \"v\", \"showlegend\": true, \"type\": \"scatter\", \"x\": [-0.20676891484377607], \"xaxis\": \"x\", \"y\": [-0.0331097749317377], \"yaxis\": \"y\"}, {\"hovertemplate\": \"color=Germany<br>0=%{x}<br>1=%{y}<extra></extra>\", \"legendgroup\": \"Germany\", \"marker\": {\"color\": \"#FF97FF\", \"symbol\": \"circle\"}, \"mode\": \"markers\", \"name\": \"Germany\", \"orientation\": \"v\", \"showlegend\": true, \"type\": \"scatter\", \"x\": [-0.58171901908668], \"xaxis\": \"x\", \"y\": [-0.46332976066201575], \"yaxis\": \"y\"}, {\"hovertemplate\": \"color=Greece<br>0=%{x}<br>1=%{y}<extra></extra>\", \"legendgroup\": \"Greece\", \"marker\": {\"color\": \"#FECB52\", \"symbol\": \"circle\"}, \"mode\": \"markers\", \"name\": \"Greece\", \"orientation\": \"v\", \"showlegend\": true, \"type\": \"scatter\", \"x\": [0.9824439585763942], \"xaxis\": \"x\", \"y\": [3.34545942908179], \"yaxis\": \"y\"}, {\"hovertemplate\": \"color=Hungary<br>0=%{x}<br>1=%{y}<extra></extra>\", \"legendgroup\": \"Hungary\", \"marker\": {\"color\": \"#636efa\", \"symbol\": \"circle\"}, \"mode\": \"markers\", \"name\": \"Hungary\", \"orientation\": \"v\", \"showlegend\": true, \"type\": \"scatter\", \"x\": [1.3717269121041213], \"xaxis\": \"x\", \"y\": [-0.03361423403331933], \"yaxis\": \"y\"}, {\"hovertemplate\": \"color=Iceland<br>0=%{x}<br>1=%{y}<extra></extra>\", \"legendgroup\": \"Iceland\", \"marker\": {\"color\": \"#EF553B\", \"symbol\": \"circle\"}, \"mode\": \"markers\", \"name\": \"Iceland\", \"orientation\": \"v\", \"showlegend\": true, \"type\": \"scatter\", \"x\": [-1.5551818748850332], \"xaxis\": \"x\", \"y\": [-1.4506439598151144], \"yaxis\": \"y\"}, {\"hovertemplate\": \"color=Ireland<br>0=%{x}<br>1=%{y}<extra></extra>\", \"legendgroup\": \"Ireland\", \"marker\": {\"color\": \"#00cc96\", \"symbol\": \"circle\"}, \"mode\": \"markers\", \"name\": \"Ireland\", \"orientation\": \"v\", \"showlegend\": true, \"type\": \"scatter\", \"x\": [-1.7763218310144777], \"xaxis\": \"x\", \"y\": [0.51240491904877], \"yaxis\": \"y\"}, {\"hovertemplate\": \"color=Italy<br>0=%{x}<br>1=%{y}<extra></extra>\", \"legendgroup\": \"Italy\", \"marker\": {\"color\": \"#ab63fa\", \"symbol\": \"circle\"}, \"mode\": \"markers\", \"name\": \"Italy\", \"orientation\": \"v\", \"showlegend\": true, \"type\": \"scatter\", \"x\": [-0.8378492983766787], \"xaxis\": \"x\", \"y\": [0.3218922800165983], \"yaxis\": \"y\"}, {\"hovertemplate\": \"color=Latvia<br>0=%{x}<br>1=%{y}<extra></extra>\", \"legendgroup\": \"Latvia\", \"marker\": {\"color\": \"#FFA15A\", \"symbol\": \"circle\"}, \"mode\": \"markers\", \"name\": \"Latvia\", \"orientation\": \"v\", \"showlegend\": true, \"type\": \"scatter\", \"x\": [2.264505385059275], \"xaxis\": \"x\", \"y\": [-0.6631789575720766], \"yaxis\": \"y\"}, {\"hovertemplate\": \"color=Lithuania<br>0=%{x}<br>1=%{y}<extra></extra>\", \"legendgroup\": \"Lithuania\", \"marker\": {\"color\": \"#19d3f3\", \"symbol\": \"circle\"}, \"mode\": \"markers\", \"name\": \"Lithuania\", \"orientation\": \"v\", \"showlegend\": true, \"type\": \"scatter\", \"x\": [1.5025282839007286], \"xaxis\": \"x\", \"y\": [-0.19148317001989504], \"yaxis\": \"y\"}, {\"hovertemplate\": \"color=Luxembourg<br>0=%{x}<br>1=%{y}<extra></extra>\", \"legendgroup\": \"Luxembourg\", \"marker\": {\"color\": \"#FF6692\", \"symbol\": \"circle\"}, \"mode\": \"markers\", \"name\": \"Luxembourg\", \"orientation\": \"v\", \"showlegend\": true, \"type\": \"scatter\", \"x\": [-3.415755319088453], \"xaxis\": \"x\", \"y\": [-1.0568928305954333], \"yaxis\": \"y\"}, {\"hovertemplate\": \"color=Netherlands<br>0=%{x}<br>1=%{y}<extra></extra>\", \"legendgroup\": \"Netherlands\", \"marker\": {\"color\": \"#B6E880\", \"symbol\": \"circle\"}, \"mode\": \"markers\", \"name\": \"Netherlands\", \"orientation\": \"v\", \"showlegend\": true, \"type\": \"scatter\", \"x\": [-1.8068965738969471], \"xaxis\": \"x\", \"y\": [-0.05619809574085793], \"yaxis\": \"y\"}, {\"hovertemplate\": \"color=Norway<br>0=%{x}<br>1=%{y}<extra></extra>\", \"legendgroup\": \"Norway\", \"marker\": {\"color\": \"#FF97FF\", \"symbol\": \"circle\"}, \"mode\": \"markers\", \"name\": \"Norway\", \"orientation\": \"v\", \"showlegend\": true, \"type\": \"scatter\", \"x\": [-2.0685525744091082], \"xaxis\": \"x\", \"y\": [-0.1413688809854263], \"yaxis\": \"y\"}, {\"hovertemplate\": \"color=Poland<br>0=%{x}<br>1=%{y}<extra></extra>\", \"legendgroup\": \"Poland\", \"marker\": {\"color\": \"#FECB52\", \"symbol\": \"circle\"}, \"mode\": \"markers\", \"name\": \"Poland\", \"orientation\": \"v\", \"showlegend\": true, \"type\": \"scatter\", \"x\": [1.4452532080639944], \"xaxis\": \"x\", \"y\": [0.07166992512836605], \"yaxis\": \"y\"}, {\"hovertemplate\": \"color=Portugal<br>0=%{x}<br>1=%{y}<extra></extra>\", \"legendgroup\": \"Portugal\", \"marker\": {\"color\": \"#636efa\", \"symbol\": \"circle\"}, \"mode\": \"markers\", \"name\": \"Portugal\", \"orientation\": \"v\", \"showlegend\": true, \"type\": \"scatter\", \"x\": [0.5170061914939632], \"xaxis\": \"x\", \"y\": [1.0161279484645616], \"yaxis\": \"y\"}, {\"hovertemplate\": \"color=Slovakia<br>0=%{x}<br>1=%{y}<extra></extra>\", \"legendgroup\": \"Slovakia\", \"marker\": {\"color\": \"#EF553B\", \"symbol\": \"circle\"}, \"mode\": \"markers\", \"name\": \"Slovakia\", \"orientation\": \"v\", \"showlegend\": true, \"type\": \"scatter\", \"x\": [0.7688573205118819], \"xaxis\": \"x\", \"y\": [-0.16915574264761984], \"yaxis\": \"y\"}, {\"hovertemplate\": \"color=Slovenia<br>0=%{x}<br>1=%{y}<extra></extra>\", \"legendgroup\": \"Slovenia\", \"marker\": {\"color\": \"#00cc96\", \"symbol\": \"circle\"}, \"mode\": \"markers\", \"name\": \"Slovenia\", \"orientation\": \"v\", \"showlegend\": true, \"type\": \"scatter\", \"x\": [0.06632627793932264], \"xaxis\": \"x\", \"y\": [0.7832984113061622], \"yaxis\": \"y\"}, {\"hovertemplate\": \"color=Spain<br>0=%{x}<br>1=%{y}<extra></extra>\", \"legendgroup\": \"Spain\", \"marker\": {\"color\": \"#ab63fa\", \"symbol\": \"circle\"}, \"mode\": \"markers\", \"name\": \"Spain\", \"orientation\": \"v\", \"showlegend\": true, \"type\": \"scatter\", \"x\": [-0.16081595915779962], \"xaxis\": \"x\", \"y\": [1.1313063517339834], \"yaxis\": \"y\"}, {\"hovertemplate\": \"color=Sweden<br>0=%{x}<br>1=%{y}<extra></extra>\", \"legendgroup\": \"Sweden\", \"marker\": {\"color\": \"#FFA15A\", \"symbol\": \"circle\"}, \"mode\": \"markers\", \"name\": \"Sweden\", \"orientation\": \"v\", \"showlegend\": true, \"type\": \"scatter\", \"x\": [-0.8691561598899682], \"xaxis\": \"x\", \"y\": [-0.39562101973956637], \"yaxis\": \"y\"}, {\"hovertemplate\": \"color=Switzerland<br>0=%{x}<br>1=%{y}<extra></extra>\", \"legendgroup\": \"Switzerland\", \"marker\": {\"color\": \"#19d3f3\", \"symbol\": \"circle\"}, \"mode\": \"markers\", \"name\": \"Switzerland\", \"orientation\": \"v\", \"showlegend\": true, \"type\": \"scatter\", \"x\": [-3.222453607460654], \"xaxis\": \"x\", \"y\": [-0.10627652478206166], \"yaxis\": \"y\"}, {\"hovertemplate\": \"color=Ukraine<br>0=%{x}<br>1=%{y}<extra></extra>\", \"legendgroup\": \"Ukraine\", \"marker\": {\"color\": \"#FF6692\", \"symbol\": \"circle\"}, \"mode\": \"markers\", \"name\": \"Ukraine\", \"orientation\": \"v\", \"showlegend\": true, \"type\": \"scatter\", \"x\": [4.497733954105657], \"xaxis\": \"x\", \"y\": [-2.7780640826948306], \"yaxis\": \"y\"}, {\"hovertemplate\": \"color=United Kingdom<br>0=%{x}<br>1=%{y}<extra></extra>\", \"legendgroup\": \"United Kingdom\", \"marker\": {\"color\": \"#B6E880\", \"symbol\": \"circle\"}, \"mode\": \"markers\", \"name\": \"United Kingdom\", \"orientation\": \"v\", \"showlegend\": true, \"type\": \"scatter\", \"x\": [-0.33467795844402276], \"xaxis\": \"x\", \"y\": [0.49658960893639703], \"yaxis\": \"y\"}],                        {\"annotations\": [{\"ax\": 0, \"ay\": 0, \"text\": \"Area\", \"x\": 0.22432739496455595, \"xanchor\": \"center\", \"y\": -0.18835324087674876, \"yanchor\": \"bottom\"}, {\"ax\": 0, \"ay\": 0, \"text\": \"GDP\", \"x\": -0.899124426498063, \"xanchor\": \"center\", \"y\": -0.1417938014336391, \"yanchor\": \"bottom\"}, {\"ax\": 0, \"ay\": 0, \"text\": \"Inflation\", \"x\": 0.7302819671353878, \"xanchor\": \"center\", \"y\": -0.4027607620241775, \"yanchor\": \"bottom\"}, {\"ax\": 0, \"ay\": 0, \"text\": \"Life.expect\", \"x\": -0.8674487909171308, \"xanchor\": \"center\", \"y\": 0.28900124917942405, \"yanchor\": \"bottom\"}, {\"ax\": 0, \"ay\": 0, \"text\": \"Military\", \"x\": 0.33792960890839935, \"xanchor\": \"center\", \"y\": 0.7172159586798298, \"yanchor\": \"bottom\"}, {\"ax\": 0, \"ay\": 0, \"text\": \"Pop.growth\", \"x\": -0.8545687886570699, \"xanchor\": \"center\", \"y\": 0.0900209411608919, \"yanchor\": \"bottom\"}, {\"ax\": 0, \"ay\": 0, \"text\": \"Unemployment\", \"x\": 0.4880110379325661, \"xanchor\": \"center\", \"y\": 0.6027441647271682, \"yanchor\": \"bottom\"}], \"legend\": {\"title\": {\"text\": \"color\"}, \"tracegroupgap\": 0}, \"margin\": {\"t\": 60}, \"shapes\": [{\"type\": \"line\", \"x0\": 0, \"x1\": 0.22432739496455595, \"y0\": 0, \"y1\": -0.18835324087674876}, {\"type\": \"line\", \"x0\": 0, \"x1\": -0.899124426498063, \"y0\": 0, \"y1\": -0.1417938014336391}, {\"type\": \"line\", \"x0\": 0, \"x1\": 0.7302819671353878, \"y0\": 0, \"y1\": -0.4027607620241775}, {\"type\": \"line\", \"x0\": 0, \"x1\": -0.8674487909171308, \"y0\": 0, \"y1\": 0.28900124917942405}, {\"type\": \"line\", \"x0\": 0, \"x1\": 0.33792960890839935, \"y0\": 0, \"y1\": 0.7172159586798298}, {\"type\": \"line\", \"x0\": 0, \"x1\": -0.8545687886570699, \"y0\": 0, \"y1\": 0.0900209411608919}, {\"type\": \"line\", \"x0\": 0, \"x1\": 0.4880110379325661, \"y0\": 0, \"y1\": 0.6027441647271682}], \"template\": {\"data\": {\"bar\": [{\"error_x\": {\"color\": \"#2a3f5f\"}, \"error_y\": {\"color\": \"#2a3f5f\"}, \"marker\": {\"line\": {\"color\": \"#E5ECF6\", \"width\": 0.5}}, \"type\": \"bar\"}], \"barpolar\": [{\"marker\": {\"line\": {\"color\": \"#E5ECF6\", \"width\": 0.5}}, \"type\": \"barpolar\"}], \"carpet\": [{\"aaxis\": {\"endlinecolor\": \"#2a3f5f\", \"gridcolor\": \"white\", \"linecolor\": \"white\", \"minorgridcolor\": \"white\", \"startlinecolor\": \"#2a3f5f\"}, \"baxis\": {\"endlinecolor\": \"#2a3f5f\", \"gridcolor\": \"white\", \"linecolor\": \"white\", \"minorgridcolor\": \"white\", \"startlinecolor\": \"#2a3f5f\"}, \"type\": \"carpet\"}], \"choropleth\": [{\"colorbar\": {\"outlinewidth\": 0, \"ticks\": \"\"}, \"type\": \"choropleth\"}], \"contour\": [{\"colorbar\": {\"outlinewidth\": 0, \"ticks\": \"\"}, \"colorscale\": [[0.0, \"#0d0887\"], [0.1111111111111111, \"#46039f\"], [0.2222222222222222, \"#7201a8\"], [0.3333333333333333, \"#9c179e\"], [0.4444444444444444, \"#bd3786\"], [0.5555555555555556, \"#d8576b\"], [0.6666666666666666, \"#ed7953\"], [0.7777777777777778, \"#fb9f3a\"], [0.8888888888888888, \"#fdca26\"], [1.0, \"#f0f921\"]], \"type\": \"contour\"}], \"contourcarpet\": [{\"colorbar\": {\"outlinewidth\": 0, \"ticks\": \"\"}, \"type\": \"contourcarpet\"}], \"heatmap\": [{\"colorbar\": {\"outlinewidth\": 0, \"ticks\": \"\"}, \"colorscale\": [[0.0, \"#0d0887\"], [0.1111111111111111, \"#46039f\"], [0.2222222222222222, \"#7201a8\"], [0.3333333333333333, \"#9c179e\"], [0.4444444444444444, \"#bd3786\"], [0.5555555555555556, \"#d8576b\"], [0.6666666666666666, \"#ed7953\"], [0.7777777777777778, \"#fb9f3a\"], [0.8888888888888888, \"#fdca26\"], [1.0, \"#f0f921\"]], \"type\": \"heatmap\"}], \"heatmapgl\": [{\"colorbar\": {\"outlinewidth\": 0, \"ticks\": \"\"}, \"colorscale\": [[0.0, \"#0d0887\"], [0.1111111111111111, \"#46039f\"], [0.2222222222222222, \"#7201a8\"], [0.3333333333333333, \"#9c179e\"], [0.4444444444444444, \"#bd3786\"], [0.5555555555555556, \"#d8576b\"], [0.6666666666666666, \"#ed7953\"], [0.7777777777777778, \"#fb9f3a\"], [0.8888888888888888, \"#fdca26\"], [1.0, \"#f0f921\"]], \"type\": \"heatmapgl\"}], \"histogram\": [{\"marker\": {\"colorbar\": {\"outlinewidth\": 0, \"ticks\": \"\"}}, \"type\": \"histogram\"}], \"histogram2d\": [{\"colorbar\": {\"outlinewidth\": 0, \"ticks\": \"\"}, \"colorscale\": [[0.0, \"#0d0887\"], [0.1111111111111111, \"#46039f\"], [0.2222222222222222, \"#7201a8\"], [0.3333333333333333, \"#9c179e\"], [0.4444444444444444, \"#bd3786\"], [0.5555555555555556, \"#d8576b\"], [0.6666666666666666, \"#ed7953\"], [0.7777777777777778, \"#fb9f3a\"], [0.8888888888888888, \"#fdca26\"], [1.0, \"#f0f921\"]], \"type\": \"histogram2d\"}], \"histogram2dcontour\": [{\"colorbar\": {\"outlinewidth\": 0, \"ticks\": \"\"}, \"colorscale\": [[0.0, \"#0d0887\"], [0.1111111111111111, \"#46039f\"], [0.2222222222222222, \"#7201a8\"], [0.3333333333333333, \"#9c179e\"], [0.4444444444444444, \"#bd3786\"], [0.5555555555555556, \"#d8576b\"], [0.6666666666666666, \"#ed7953\"], [0.7777777777777778, \"#fb9f3a\"], [0.8888888888888888, \"#fdca26\"], [1.0, \"#f0f921\"]], \"type\": \"histogram2dcontour\"}], \"mesh3d\": [{\"colorbar\": {\"outlinewidth\": 0, \"ticks\": \"\"}, \"type\": \"mesh3d\"}], \"parcoords\": [{\"line\": {\"colorbar\": {\"outlinewidth\": 0, \"ticks\": \"\"}}, \"type\": \"parcoords\"}], \"pie\": [{\"automargin\": true, \"type\": \"pie\"}], \"scatter\": [{\"marker\": {\"colorbar\": {\"outlinewidth\": 0, \"ticks\": \"\"}}, \"type\": \"scatter\"}], \"scatter3d\": [{\"line\": {\"colorbar\": {\"outlinewidth\": 0, \"ticks\": \"\"}}, \"marker\": {\"colorbar\": {\"outlinewidth\": 0, \"ticks\": \"\"}}, \"type\": \"scatter3d\"}], \"scattercarpet\": [{\"marker\": {\"colorbar\": {\"outlinewidth\": 0, \"ticks\": \"\"}}, \"type\": \"scattercarpet\"}], \"scattergeo\": [{\"marker\": {\"colorbar\": {\"outlinewidth\": 0, \"ticks\": \"\"}}, \"type\": \"scattergeo\"}], \"scattergl\": [{\"marker\": {\"colorbar\": {\"outlinewidth\": 0, \"ticks\": \"\"}}, \"type\": \"scattergl\"}], \"scattermapbox\": [{\"marker\": {\"colorbar\": {\"outlinewidth\": 0, \"ticks\": \"\"}}, \"type\": \"scattermapbox\"}], \"scatterpolar\": [{\"marker\": {\"colorbar\": {\"outlinewidth\": 0, \"ticks\": \"\"}}, \"type\": \"scatterpolar\"}], \"scatterpolargl\": [{\"marker\": {\"colorbar\": {\"outlinewidth\": 0, \"ticks\": \"\"}}, \"type\": \"scatterpolargl\"}], \"scatterternary\": [{\"marker\": {\"colorbar\": {\"outlinewidth\": 0, \"ticks\": \"\"}}, \"type\": \"scatterternary\"}], \"surface\": [{\"colorbar\": {\"outlinewidth\": 0, \"ticks\": \"\"}, \"colorscale\": [[0.0, \"#0d0887\"], [0.1111111111111111, \"#46039f\"], [0.2222222222222222, \"#7201a8\"], [0.3333333333333333, \"#9c179e\"], [0.4444444444444444, \"#bd3786\"], [0.5555555555555556, \"#d8576b\"], [0.6666666666666666, \"#ed7953\"], [0.7777777777777778, \"#fb9f3a\"], [0.8888888888888888, \"#fdca26\"], [1.0, \"#f0f921\"]], \"type\": \"surface\"}], \"table\": [{\"cells\": {\"fill\": {\"color\": \"#EBF0F8\"}, \"line\": {\"color\": \"white\"}}, \"header\": {\"fill\": {\"color\": \"#C8D4E3\"}, \"line\": {\"color\": \"white\"}}, \"type\": \"table\"}]}, \"layout\": {\"annotationdefaults\": {\"arrowcolor\": \"#2a3f5f\", \"arrowhead\": 0, \"arrowwidth\": 1}, \"coloraxis\": {\"colorbar\": {\"outlinewidth\": 0, \"ticks\": \"\"}}, \"colorscale\": {\"diverging\": [[0, \"#8e0152\"], [0.1, \"#c51b7d\"], [0.2, \"#de77ae\"], [0.3, \"#f1b6da\"], [0.4, \"#fde0ef\"], [0.5, \"#f7f7f7\"], [0.6, \"#e6f5d0\"], [0.7, \"#b8e186\"], [0.8, \"#7fbc41\"], [0.9, \"#4d9221\"], [1, \"#276419\"]], \"sequential\": [[0.0, \"#0d0887\"], [0.1111111111111111, \"#46039f\"], [0.2222222222222222, \"#7201a8\"], [0.3333333333333333, \"#9c179e\"], [0.4444444444444444, \"#bd3786\"], [0.5555555555555556, \"#d8576b\"], [0.6666666666666666, \"#ed7953\"], [0.7777777777777778, \"#fb9f3a\"], [0.8888888888888888, \"#fdca26\"], [1.0, \"#f0f921\"]], \"sequentialminus\": [[0.0, \"#0d0887\"], [0.1111111111111111, \"#46039f\"], [0.2222222222222222, \"#7201a8\"], [0.3333333333333333, \"#9c179e\"], [0.4444444444444444, \"#bd3786\"], [0.5555555555555556, \"#d8576b\"], [0.6666666666666666, \"#ed7953\"], [0.7777777777777778, \"#fb9f3a\"], [0.8888888888888888, \"#fdca26\"], [1.0, \"#f0f921\"]]}, \"colorway\": [\"#636efa\", \"#EF553B\", \"#00cc96\", \"#ab63fa\", \"#FFA15A\", \"#19d3f3\", \"#FF6692\", \"#B6E880\", \"#FF97FF\", \"#FECB52\"], \"font\": {\"color\": \"#2a3f5f\"}, \"geo\": {\"bgcolor\": \"white\", \"lakecolor\": \"white\", \"landcolor\": \"#E5ECF6\", \"showlakes\": true, \"showland\": true, \"subunitcolor\": \"white\"}, \"hoverlabel\": {\"align\": \"left\"}, \"hovermode\": \"closest\", \"mapbox\": {\"style\": \"light\"}, \"paper_bgcolor\": \"white\", \"plot_bgcolor\": \"#E5ECF6\", \"polar\": {\"angularaxis\": {\"gridcolor\": \"white\", \"linecolor\": \"white\", \"ticks\": \"\"}, \"bgcolor\": \"#E5ECF6\", \"radialaxis\": {\"gridcolor\": \"white\", \"linecolor\": \"white\", \"ticks\": \"\"}}, \"scene\": {\"xaxis\": {\"backgroundcolor\": \"#E5ECF6\", \"gridcolor\": \"white\", \"gridwidth\": 2, \"linecolor\": \"white\", \"showbackground\": true, \"ticks\": \"\", \"zerolinecolor\": \"white\"}, \"yaxis\": {\"backgroundcolor\": \"#E5ECF6\", \"gridcolor\": \"white\", \"gridwidth\": 2, \"linecolor\": \"white\", \"showbackground\": true, \"ticks\": \"\", \"zerolinecolor\": \"white\"}, \"zaxis\": {\"backgroundcolor\": \"#E5ECF6\", \"gridcolor\": \"white\", \"gridwidth\": 2, \"linecolor\": \"white\", \"showbackground\": true, \"ticks\": \"\", \"zerolinecolor\": \"white\"}}, \"shapedefaults\": {\"line\": {\"color\": \"#2a3f5f\"}}, \"ternary\": {\"aaxis\": {\"gridcolor\": \"white\", \"linecolor\": \"white\", \"ticks\": \"\"}, \"baxis\": {\"gridcolor\": \"white\", \"linecolor\": \"white\", \"ticks\": \"\"}, \"bgcolor\": \"#E5ECF6\", \"caxis\": {\"gridcolor\": \"white\", \"linecolor\": \"white\", \"ticks\": \"\"}}, \"title\": {\"x\": 0.05}, \"xaxis\": {\"automargin\": true, \"gridcolor\": \"white\", \"linecolor\": \"white\", \"ticks\": \"\", \"title\": {\"standoff\": 15}, \"zerolinecolor\": \"white\", \"zerolinewidth\": 2}, \"yaxis\": {\"automargin\": true, \"gridcolor\": \"white\", \"linecolor\": \"white\", \"ticks\": \"\", \"title\": {\"standoff\": 15}, \"zerolinecolor\": \"white\", \"zerolinewidth\": 2}}}, \"xaxis\": {\"anchor\": \"y\", \"domain\": [0.0, 1.0], \"title\": {\"text\": \"0\"}}, \"yaxis\": {\"anchor\": \"x\", \"domain\": [0.0, 1.0], \"title\": {\"text\": \"1\"}}},                        {\"responsive\": true}                    ).then(function(){\n",
       "                            \n",
       "var gd = document.getElementById('258a6aa9-e9b4-444d-9290-51be5582e7fc');\n",
       "var x = new MutationObserver(function (mutations, observer) {{\n",
       "        var display = window.getComputedStyle(gd).display;\n",
       "        if (!display || display === 'none') {{\n",
       "            console.log([gd, 'removed!']);\n",
       "            Plotly.purge(gd);\n",
       "            observer.disconnect();\n",
       "        }}\n",
       "}});\n",
       "\n",
       "// Listen for the removal of the full notebook cells\n",
       "var notebookContainer = gd.closest('#notebook-container');\n",
       "if (notebookContainer) {{\n",
       "    x.observe(notebookContainer, {childList: true});\n",
       "}}\n",
       "\n",
       "// Listen for the clearing of the current output cell\n",
       "var outputEl = gd.closest('.output');\n",
       "if (outputEl) {{\n",
       "    x.observe(outputEl, {childList: true});\n",
       "}}\n",
       "\n",
       "                        })                };                });            </script>        </div>"
      ]
     },
     "metadata": {},
     "output_type": "display_data"
    }
   ],
   "source": [
    "pca_s = PCA()\n",
    "main_components_s = pca_s.fit_transform(X_standarized)\n",
    "loadings_s = pca_s.components_.T * np.sqrt(pca_s.explained_variance_)\n",
    "fig = px.scatter(main_components_s, x=0, y=1, color=data[\"Country\"])\n",
    "\n",
    "for i, feature in enumerate(features):\n",
    "    fig.add_shape(\n",
    "        type='line',\n",
    "        x0=0, y0=0,\n",
    "        x1=loadings_s[i, 0],\n",
    "        y1=loadings_s[i, 1]\n",
    "    )\n",
    "    fig.add_annotation(\n",
    "        x=loadings_s[i, 0],\n",
    "        y=loadings_s[i, 1],\n",
    "        ax=0, ay=0,\n",
    "        xanchor=\"center\",\n",
    "        yanchor=\"bottom\",\n",
    "        text=feature,\n",
    "    )\n",
    "fig.show()"
   ]
  },
  {
   "cell_type": "markdown",
   "metadata": {},
   "source": [
    "## Análisis de la componente principal\n",
    "\n",
    "Si extraemos la componente principal de cada conjunto evaluado podemos sacar algunas conclusiones.\n",
    "\n",
    "1) Componente principal de datos no estandarizados"
   ]
  },
  {
   "cell_type": "code",
   "execution_count": 50,
   "metadata": {},
   "outputs": [
    {
     "name": "stdout",
     "output_type": "stream",
     "text": [
      "Y1:  27407119066.282173\n",
      "Cargas de Y1: [ 9.99925260e-01 -1.22259664e-02  2.70756484e-06 -4.31861069e-07\n",
      "  4.93639942e-07 -2.71135309e-07  7.34965897e-07]\n"
     ]
    }
   ],
   "source": [
    "print('Y1: ', pca_ns.explained_variance_[0])\n",
    "print('Cargas de Y1:', pca_ns.components_[0])"
   ]
  },
  {
   "cell_type": "markdown",
   "metadata": {},
   "source": [
    "2) Ahora evaluamos lo mismo para los datos estandarizados"
   ]
  },
  {
   "cell_type": "code",
   "execution_count": 49,
   "metadata": {},
   "outputs": [
    {
     "name": "stdout",
     "output_type": "stream",
     "text": [
      "Y1:  3.227165679111596\n",
      "Cargas de Y1:  [ 0.1248739  -0.50050586  0.40651815 -0.48287333  0.18811162 -0.47570355\n",
      "  0.27165582]\n"
     ]
    }
   ],
   "source": [
    "print('Y1: ', pca_s.explained_variance_[0])\n",
    "print('Cargas de Y1: ', pca_s.components_[0])"
   ]
  }
 ],
 "metadata": {
  "kernelspec": {
   "display_name": "Python 3",
   "language": "python",
   "name": "python3"
  },
  "language_info": {
   "codemirror_mode": {
    "name": "ipython",
    "version": 3
   },
   "file_extension": ".py",
   "mimetype": "text/x-python",
   "name": "python",
   "nbconvert_exporter": "python",
   "pygments_lexer": "ipython3",
   "version": "3.8.5"
  }
 },
 "nbformat": 4,
 "nbformat_minor": 4
}
